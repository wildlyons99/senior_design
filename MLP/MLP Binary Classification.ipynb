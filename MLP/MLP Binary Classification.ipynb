{
 "cells": [
  {
   "cell_type": "code",
   "execution_count": 1,
   "metadata": {},
   "outputs": [],
   "source": [
    "import pandas as pd\n",
    "import matplotlib.pyplot as plt\n",
    "import numpy as np\n",
    "from sklearn.model_selection import train_test_split"
   ]
  },
  {
   "cell_type": "markdown",
   "metadata": {},
   "source": [
    "### This is a single perceptron model that DOES NOT use PyTorch!\n",
    "\n",
    "Propagation and optimization functions are the same as slideshow, except our activation function is not a sigmoid but a unit step (so we ignore its derivative)."
   ]
  },
  {
   "cell_type": "code",
   "execution_count": 2,
   "metadata": {},
   "outputs": [],
   "source": [
    "def forward_propagation(x, y, weights, bias):\n",
    "    \"\"\"\n",
    "    x: training data as a vector (nparray), where each value corresponds\n",
    "        to a feature's value\n",
    "    y: label (0 or 1)\n",
    "    weights: weights of the perceptron\n",
    "    bias: bias\n",
    "    \"\"\"\n",
    "    y_pred = predict(x, weights, bias)\n",
    "    loss = (y_pred - y)**2\n",
    "    d_loss = 2*(y_pred - y)\n",
    "\n",
    "    return y_pred, loss, d_loss"
   ]
  },
  {
   "cell_type": "code",
   "execution_count": 3,
   "metadata": {},
   "outputs": [],
   "source": [
    "def optimize_perceptron(x, y, learning_rate,  maxEpochs, ):\n",
    "    \"\"\"\n",
    "    Optimizes the Perceptron's weights by looping over the same steps for the specified number of epochs.\n",
    "    Steps:\n",
    "    1. Forward propagate data point\n",
    "    2. Backpropagate\n",
    "    3. Update weights\n",
    "    4. Check stop conditions while looping\n",
    "    \"\"\"\n",
    "    epoch = 0\n",
    "    error = 999\n",
    "    weights = np.random.rand(x.shape[1])\n",
    "    bias = np.random.rand()\n",
    "\n",
    "    errors = list()\n",
    "    epochs = list()\n",
    "\n",
    "    # Loop until stop conditions are met\n",
    "    while (epoch <= maxEpochs) and (error > 9e-4):\n",
    "\n",
    "        loss_ = 0\n",
    "        # Loop over every data point\n",
    "        for i in range(x.shape[0]):\n",
    "\n",
    "            # Forward Propagation on each data point\n",
    "            y_pred, loss, d_loss = forward_propagation(x[i], y[i], weights, bias)\n",
    "\n",
    "            # Backpropagation\n",
    "            partial_derivates = backpropagation(x[i], d_loss)\n",
    "\n",
    "            # Learn by updating the weights of the perceptron\n",
    "            weights = weights - (learning_rate * np.array(partial_derivates))\n",
    "\n",
    "        # Evaluate the results\n",
    "        for index, feature_value_test in enumerate(x):\n",
    "            y_pred, loss, d_loss = forward_propagation(feature_value_test, y[index], weights, bias)\n",
    "            loss_ += loss\n",
    "\n",
    "        errors.append(loss_/len(x))\n",
    "        epochs.append(epoch)\n",
    "        error = errors[-1]\n",
    "        epoch += 1\n",
    "\n",
    "        print('Epoch {}. loss: {}'.format(epoch, errors[-1]))\n",
    "\n",
    "\n",
    "    return weights, bias, errors\n",
    "\n",
    "# def optimize_perceptron(x, y, learning_rate, maxEpochs, ):\n",
    "#     \"\"\"\n",
    "#     Optimizes the Perceptron's weights by looping over the same steps for the specified number of epochs.\n",
    "#     Steps:\n",
    "#     1. Forward propagate data point\n",
    "#     2. Backpropagate\n",
    "#     3. Update weights\n",
    "#     4. Check stop conditions while looping\n",
    "#     \"\"\"\n",
    "#     epoch = 0\n",
    "#     error = 999\n",
    "#     weights = np.random.rand(x.shape[1])  # initialize weights randomly\n",
    "#     bias = np.random.rand()  # initialize bias randomly\n",
    "\n",
    "#     errors = list()\n",
    "#     epochs = list()\n",
    "\n",
    "#     # Loop until stop conditions are met\n",
    "#     while (epoch <= maxEpochs) and (error > 9e-4):\n",
    "\n",
    "#         loss_ = 0\n",
    "#         # Loop over every data point\n",
    "#         for i in range(x.shape[0]):\n",
    "\n",
    "#             # Forward Propagation on each data point\n",
    "#             y_pred, loss, d_loss = forward_propagation(x[i], y[i], weights, bias)\n",
    "\n",
    "#             # Backpropagation\n",
    "#             partial_derivates = backpropagation(x[i], d_loss)\n",
    "\n",
    "#             # Learn by updating the weights of the perceptron\n",
    "#             weights = weights - (learning_rate * np.array(partial_derivates))\n",
    "\n",
    "#             # Ensure weights remain positive\n",
    "#             weights = np.clip(weights, 0, None)\n",
    "\n",
    "#         # Evaluate the results\n",
    "#         for index, feature_value_test in enumerate(x):\n",
    "#             y_pred, loss, d_loss = forward_propagation(feature_value_test, y[index], weights, bias)\n",
    "#             loss_ += loss\n",
    "\n",
    "#         errors.append(loss_ / len(x))\n",
    "#         epochs.append(epoch)\n",
    "#         error = errors[-1]\n",
    "#         epoch += 1\n",
    "\n",
    "#         print('Epoch {}. loss: {}'.format(epoch, errors[-1]))\n",
    "\n",
    "#     return weights, bias, errors\n"
   ]
  },
  {
   "cell_type": "code",
   "execution_count": 4,
   "metadata": {},
   "outputs": [],
   "source": [
    "def activation_function(prediction):\n",
    "    \"\"\"\n",
    "    Receives the output of the perceptron's function as parameter, and applies the\n",
    "    activation function on it.\n",
    "    In this simple model, the activation function is a unit step which classifies\n",
    "    negative inputs as 0 and positive inputs as 1.\n",
    "    \"\"\"\n",
    "    if prediction >= 0.5:\n",
    "        return 1\n",
    "    return 0\n",
    "\n",
    "\n",
    "def predict(x, weights, bias):\n",
    "    \"\"\"\n",
    "    Predicts the class of a given data point (x) by running the input through\n",
    "    the neuron (dot product) and then applying the activation function.\n",
    "    \"\"\"\n",
    "    prediction = np.dot(weights, x) + bias\n",
    "    prediction = activation_function(prediction)\n",
    "\n",
    "    return (prediction)"
   ]
  },
  {
   "cell_type": "code",
   "execution_count": 5,
   "metadata": {},
   "outputs": [],
   "source": [
    "def backpropagation(x, d_loss):\n",
    "    \"\"\"\n",
    "    Performs the Backpropagation step on a given data point.\n",
    "    Receives as input the data point, the Perceptron's weights and the partial derivative of the loss\n",
    "    over the predicted y.\n",
    "    The received derivative is used to calculate the partial derivative of the loss over the weight of each feature.\n",
    "    A list with the partial derivatives of the loss over each weight is returned.\n",
    "    \"\"\"\n",
    "    partial_derivates = list()\n",
    "    for feature_value in x:\n",
    "        partial_derivates.append(d_loss*feature_value)\n",
    "\n",
    "    return partial_derivates"
   ]
  },
  {
   "cell_type": "markdown",
   "metadata": {},
   "source": [
    "### Formatting our Data"
   ]
  },
  {
   "cell_type": "code",
   "execution_count": 6,
   "metadata": {},
   "outputs": [
    {
     "name": "stdout",
     "output_type": "stream",
     "text": [
      "(8816, 785)\n",
      "[0 1]\n",
      "(6612, 784)\n",
      "(2204, 784)\n",
      "(6612,)\n",
      "(2204,)\n"
     ]
    }
   ],
   "source": [
    "data = pd.read_csv('data_mnist.zip')\n",
    "\n",
    "# Take only data with labels 1\n",
    "data_ones = data[data['label'] == 1]\n",
    "\n",
    "# Take only data with labels 0\n",
    "data_zeros = data[data['label'] == 0]\n",
    "\n",
    "# If you want to change either digit, just change the label value to either a 0 or a 1 so the math works out\n",
    "# Ex. data_zeros = data[data['label'] == 7]\n",
    "#     data_zeros['label'] = 0\n",
    "\n",
    "# Concatenate instances with label 0 and 1\n",
    "data = pd.concat([data_ones, data_zeros])\n",
    "print(data.shape)\n",
    "print(np.unique(data['label'].to_numpy()))\n",
    "\n",
    "# # Split dataset with 75% training data and 25% test data\n",
    "train_data, test_data = train_test_split(data, test_size=0.25, random_state=1, shuffle=True)\n",
    "\n",
    "# Split datasets into features and labels\n",
    "x_train = train_data.drop('label', axis=1).to_numpy()\n",
    "x_test = test_data.drop('label', axis=1).to_numpy()\n",
    "y_train = train_data['label'].to_numpy()\n",
    "y_test = test_data['label'].to_numpy()\n",
    "\n",
    "print(x_train.shape)\n",
    "print(x_test.shape)\n",
    "print(y_train.shape)\n",
    "print(y_test.shape)\n",
    "\n",
    "# Rescale data points to values between 0 and 1 (pixels are originally 0-255)\n",
    "x_train = x_train / 255.\n",
    "x_test = x_test / 255."
   ]
  },
  {
   "cell_type": "code",
   "execution_count": 7,
   "metadata": {},
   "outputs": [],
   "source": [
    "def shrinkdata(data, res):\n",
    "    \"\"\"\n",
    "    Reformats the input data at a lower resolution.\n",
    "    data: Our input data matrix\n",
    "    res:  The resolution (must be a factor of 28)\n",
    "    \"\"\"\n",
    "    data = data[0:].reshape([data.shape[0], 28, 28])\n",
    "    data = data.reshape(data.shape[0], res, int(28 / res), res, int(28 / res)).sum(axis=2).sum(axis=3)\n",
    "    data = data / ((28 / res)**2)\n",
    "    data = data[0:].reshape(data.shape[0], res**2)\n",
    "    return data\n",
    "\n",
    "def shrinkpoint(data, res):\n",
    "    \"\"\"\n",
    "    Same as shrinkdata, but for a single 784 pixel image\n",
    "    \"\"\"\n",
    "    data = data.reshape([28, 28])\n",
    "    data = data.reshape(res, int(28 / res), res, int(28 / res)).sum(axis=1).sum(axis=2)\n",
    "    data = data / ((28 / res)**2)\n",
    "    data = data.reshape(res**2)\n",
    "    return data"
   ]
  },
  {
   "cell_type": "code",
   "execution_count": 8,
   "metadata": {},
   "outputs": [
    {
     "data": {
      "text/plain": [
       "<matplotlib.image.AxesImage at 0x1a39b4b8b90>"
      ]
     },
     "execution_count": 8,
     "metadata": {},
     "output_type": "execute_result"
    },
    {
     "data": {
      "image/png": "[encoded data removed]",
      "text/plain": [
       "<Figure size 640x480 with 1 Axes>"
      ]
     },
     "metadata": {},
     "output_type": "display_data"
    }
   ],
   "source": [
    "plt.imshow(x_train[205].reshape([28, 28]), cmap='Greys_r')"
   ]
  },
  {
   "cell_type": "code",
   "execution_count": 9,
   "metadata": {},
   "outputs": [
    {
     "data": {
      "text/plain": [
       "<matplotlib.image.AxesImage at 0x1a39b709590>"
      ]
     },
     "execution_count": 9,
     "metadata": {},
     "output_type": "execute_result"
    },
    {
     "data": {
      "image/png": "[encoded data removed]",
      "text/plain": [
       "<Figure size 640x480 with 1 Axes>"
      ]
     },
     "metadata": {},
     "output_type": "display_data"
    }
   ],
   "source": [
    "resolution = 7 # 4x4 image resolution\n",
    "x_train_shrunk = shrinkdata(x_train, resolution)\n",
    "x_test_shrunk = shrinkdata(x_test, resolution)\n",
    "\n",
    "plt.imshow(x_train_shrunk[205].reshape([resolution, resolution]), cmap='Greys_r')"
   ]
  },
  {
   "cell_type": "code",
   "execution_count": 10,
   "metadata": {},
   "outputs": [],
   "source": [
    "def calculate_accuracy(x_test, y_test, weights, bias):\n",
    "\n",
    "    correct = 0\n",
    "\n",
    "    for sample, label in zip(x_test, y_test):\n",
    "\n",
    "        prediction = predict(sample, weights, bias)\n",
    "\n",
    "        if prediction == label:\n",
    "            correct += 1\n",
    "\n",
    "    accuracy = correct / len(x_test)\n",
    "    return accuracy"
   ]
  },
  {
   "cell_type": "code",
   "execution_count": 11,
   "metadata": {},
   "outputs": [
    {
     "name": "stdout",
     "output_type": "stream",
     "text": [
      "Epoch 1. loss: 0.12915910465819722\n",
      "Epoch 2. loss: 0.0911978221415608\n",
      "Epoch 3. loss: 0.07153660012099214\n",
      "Epoch 4. loss: 0.062008469449485785\n",
      "Epoch 5. loss: 0.059437386569872956\n",
      "Epoch 6. loss: 0.05716878402903811\n",
      "Epoch 7. loss: 0.055505142165759226\n",
      "Epoch 8. loss: 0.05369026013309135\n",
      "Epoch 9. loss: 0.05369026013309135\n",
      "Epoch 10. loss: 0.052177858439201454\n",
      "Epoch 11. loss: 0.05127041742286751\n",
      "Epoch 12. loss: 0.05066545674531155\n",
      "Epoch 13. loss: 0.05021173623714459\n",
      "Epoch 14. loss: 0.050060496067755596\n",
      "Epoch 15. loss: 0.04869933454325469\n",
      "Epoch 16. loss: 0.04824561403508772\n",
      "Epoch 17. loss: 0.04764065335753176\n",
      "Epoch 18. loss: 0.0470356926799758\n",
      "Epoch 19. loss: 0.04673321234119782\n",
      "Epoch 20. loss: 0.04658197217180883\n",
      "Epoch 21. loss: 0.04673321234119782\n",
      "Epoch 22. loss: 0.046430732002419844\n",
      "Epoch 23. loss: 0.046430732002419844\n",
      "Epoch 24. loss: 0.045674531155474894\n",
      "Epoch 25. loss: 0.04506957047791894\n",
      "Epoch 26. loss: 0.044615849969751965\n",
      "Epoch 27. loss: 0.044615849969751965\n",
      "Epoch 28. loss: 0.04446460980036298\n",
      "Epoch 29. loss: 0.04401088929219601\n",
      "Epoch 30. loss: 0.04310344827586207\n",
      "Epoch 31. loss: 0.04310344827586207\n",
      "Epoch 32. loss: 0.04295220810647308\n",
      "Epoch 33. loss: 0.04370840895341803\n",
      "Epoch 34. loss: 0.04446460980036298\n",
      "Epoch 35. loss: 0.04370840895341803\n",
      "Epoch 36. loss: 0.043557168784029036\n",
      "Epoch 37. loss: 0.042800967937084086\n",
      "Epoch 38. loss: 0.04340592861464005\n",
      "Epoch 39. loss: 0.042800967937084086\n",
      "Epoch 40. loss: 0.04249848759830611\n",
      "Epoch 41. loss: 0.04249848759830611\n",
      "Epoch 42. loss: 0.04204476709013914\n",
      "Epoch 43. loss: 0.04204476709013914\n",
      "Epoch 44. loss: 0.04219600725952813\n",
      "Epoch 45. loss: 0.041742286751361164\n",
      "Epoch 46. loss: 0.04159104658197217\n",
      "Epoch 47. loss: 0.04159104658197217\n",
      "Epoch 48. loss: 0.0411373260738052\n",
      "Epoch 49. loss: 0.041439806412583186\n",
      "Epoch 50. loss: 0.040986085904416214\n",
      "Epoch 51. loss: 0.04128856624319419\n",
      "Epoch 52. loss: 0.041742286751361164\n",
      "Epoch 53. loss: 0.0411373260738052\n",
      "Epoch 54. loss: 0.040986085904416214\n",
      "Epoch 55. loss: 0.041439806412583186\n",
      "Epoch 56. loss: 0.0411373260738052\n",
      "Epoch 57. loss: 0.040986085904416214\n",
      "Epoch 58. loss: 0.04128856624319419\n",
      "Epoch 59. loss: 0.04128856624319419\n",
      "Epoch 60. loss: 0.0411373260738052\n",
      "Epoch 61. loss: 0.04128856624319419\n",
      "Epoch 62. loss: 0.04128856624319419\n",
      "Epoch 63. loss: 0.04128856624319419\n",
      "Epoch 64. loss: 0.04128856624319419\n",
      "Epoch 65. loss: 0.0411373260738052\n",
      "Epoch 66. loss: 0.040986085904416214\n",
      "Epoch 67. loss: 0.04083484573502722\n",
      "Epoch 68. loss: 0.04083484573502722\n",
      "Epoch 69. loss: 0.04053236539624924\n",
      "Epoch 70. loss: 0.04038112522686026\n",
      "Epoch 71. loss: 0.04038112522686026\n",
      "Epoch 72. loss: 0.04038112522686026\n",
      "Epoch 73. loss: 0.04038112522686026\n",
      "Epoch 74. loss: 0.04038112522686026\n",
      "Epoch 75. loss: 0.04038112522686026\n",
      "Epoch 76. loss: 0.040229885057471264\n",
      "Epoch 77. loss: 0.04038112522686026\n",
      "Epoch 78. loss: 0.04053236539624924\n",
      "Epoch 79. loss: 0.04083484573502722\n",
      "Epoch 80. loss: 0.04083484573502722\n",
      "Epoch 81. loss: 0.040986085904416214\n",
      "Epoch 82. loss: 0.040986085904416214\n",
      "Epoch 83. loss: 0.0411373260738052\n",
      "Epoch 84. loss: 0.0411373260738052\n",
      "Epoch 85. loss: 0.0411373260738052\n",
      "Epoch 86. loss: 0.040683605565638235\n",
      "Epoch 87. loss: 0.04083484573502722\n",
      "Epoch 88. loss: 0.040986085904416214\n",
      "Epoch 89. loss: 0.0411373260738052\n",
      "Epoch 90. loss: 0.040986085904416214\n",
      "Epoch 91. loss: 0.040986085904416214\n",
      "Epoch 92. loss: 0.040986085904416214\n",
      "Epoch 93. loss: 0.04083484573502722\n",
      "Epoch 94. loss: 0.04083484573502722\n",
      "Epoch 95. loss: 0.04083484573502722\n",
      "Epoch 96. loss: 0.04053236539624924\n",
      "Epoch 97. loss: 0.04038112522686026\n",
      "Epoch 98. loss: 0.04038112522686026\n",
      "Epoch 99. loss: 0.04007864488808228\n",
      "Epoch 100. loss: 0.040229885057471264\n",
      "Epoch 101. loss: 0.040229885057471264\n"
     ]
    }
   ],
   "source": [
    "weights, bias, errors = optimize_perceptron(x_train_shrunk, y_train, learning_rate = 0.001, maxEpochs = 100)"
   ]
  },
  {
   "cell_type": "code",
   "execution_count": 12,
   "metadata": {},
   "outputs": [
    {
     "name": "stdout",
     "output_type": "stream",
     "text": [
      "Accuracy:  0.9632486388384754\n"
     ]
    }
   ],
   "source": [
    "acc = calculate_accuracy(x_test_shrunk, y_test, weights, bias)\n",
    "print('Accuracy: ', acc)"
   ]
  },
  {
   "cell_type": "code",
   "execution_count": 13,
   "metadata": {},
   "outputs": [
    {
     "data": {
      "image/png": "[encoded data removed]",
      "text/plain": [
       "<Figure size 640x480 with 1 Axes>"
      ]
     },
     "metadata": {},
     "output_type": "display_data"
    },
    {
     "name": "stdout",
     "output_type": "stream",
     "text": [
      "[[3.20621611e-01 3.54929248e-01 6.97548245e-01 7.48796413e-01\n",
      "  3.04907451e-01 1.78277966e-01 1.97674401e-01]\n",
      " [5.23973231e-01 8.42156863e-04 2.26274510e-03 7.18480392e-03\n",
      "  3.20784314e-03 0.00000000e+00 0.00000000e+00]\n",
      " [1.22102927e-01 4.54411765e-04 0.00000000e+00 1.73039216e-04\n",
      "  0.00000000e+00 0.00000000e+00 0.00000000e+00]\n",
      " [3.14546719e-01 0.00000000e+00 0.00000000e+00 4.93467817e-01\n",
      "  0.00000000e+00 0.00000000e+00 0.00000000e+00]\n",
      " [6.67552106e-01 0.00000000e+00 0.00000000e+00 2.56361836e-01\n",
      "  0.00000000e+00 0.00000000e+00 0.00000000e+00]\n",
      " [6.69375380e-01 0.00000000e+00 2.50980392e-04 6.39117647e-03\n",
      "  3.43725490e-03 1.70588235e-03 7.48536122e-01]\n",
      " [6.99912108e-01 2.05294118e-03 4.68815011e-02 9.14068627e-02\n",
      "  7.54409411e-01 2.70158490e-01 6.89963206e-01]]\n"
     ]
    }
   ],
   "source": [
    "weights.resize((resolution, resolution))\n",
    "plt.imshow(weights, cmap='Greys_r')\n",
    "plt.axis('off')\n",
    "plt.show()\n",
    "\n",
    "print(weights)"
   ]
  }
 ],
 "metadata": {
  "kernelspec": {
   "display_name": "Python 3",
   "language": "python",
   "name": "python3"
  },
  "language_info": {
   "codemirror_mode": {
    "name": "ipython",
    "version": 3
   },
   "file_extension": ".py",
   "mimetype": "text/x-python",
   "name": "python",
   "nbconvert_exporter": "python",
   "pygments_lexer": "ipython3",
   "version": "3.11.8"
  }
 },
 "nbformat": 4,
 "nbformat_minor": 4
}
