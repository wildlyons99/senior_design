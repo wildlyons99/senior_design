{
  "nbformat": 4,
  "nbformat_minor": 0,
  "metadata": {
    "colab": {
      "provenance": []
    },
    "kernelspec": {
      "name": "python3",
      "display_name": "Python 3"
    },
    "language_info": {
      "name": "python"
    }
  },
  "cells": [
    {
      "cell_type": "code",
      "execution_count": null,
      "metadata": {
        "id": "LVnRWlNrnxZl"
      },
      "outputs": [],
      "source": []
    },
    {
      "cell_type": "code",
      "source": [
        "import pandas as pd\n",
        "import matplotlib.pyplot as plt\n",
        "import numpy as np\n",
        "from sklearn.model_selection import train_test_split"
      ],
      "metadata": {
        "id": "374EZHk5ox9l"
      },
      "execution_count": null,
      "outputs": []
    },
    {
      "cell_type": "code",
      "source": [
        "\n",
        "data = pd.read_csv('data_mnist.zip')\n",
        "\n",
        "# Take only data with labels 1\n",
        "data_ones = data[data['label'] == 1]\n",
        "\n",
        "# Take only data with labels 0\n",
        "data_zeros = data[data['label'] == 0]\n",
        "\n",
        "# If you want to change either digit, just change the label value to either a 0 or a 1 so the math works out\n",
        "# Ex. data_zeros = data[data['label'] == 7]\n",
        "#     data_zeros['label'] = 0\n",
        "\n",
        "# Concatenate instances with label 0 and 1\n",
        "data = pd.concat([data_ones, data_zeros])\n",
        "print(data.shape)\n",
        "print(np.unique(data['label'].to_numpy()))\n",
        "\n",
        "# # Split dataset with 75% training data and 25% test data\n",
        "train_data, test_data = train_test_split(data, test_size=0.25, random_state=1, shuffle=True)\n",
        "\n",
        "# Split datasets into features and labels\n",
        "x_train = train_data.drop('label', axis=1).to_numpy()\n",
        "x_test = test_data.drop('label', axis=1).to_numpy()\n",
        "y_train = train_data['label'].to_numpy()\n",
        "y_test = test_data['label'].to_numpy()\n",
        "\n",
        "print(x_train.shape)\n",
        "print(x_test.shape)\n",
        "print(y_train.shape)\n",
        "print(y_test.shape)\n",
        "\n",
        "# Rescale data points to values between 0 and 1 (pixels are originally 0-255)\n",
        "x_train = x_train / 255.\n",
        "x_test = x_test / 255."
      ],
      "metadata": {
        "id": "V13ecAOIoVtt",
        "colab": {
          "base_uri": "https://localhost:8080/"
        },
        "outputId": "5cf7a99e-c7b8-4a4c-db6a-c983bad7d8fb"
      },
      "execution_count": null,
      "outputs": [
        {
          "output_type": "stream",
          "name": "stdout",
          "text": [
            "(8816, 785)\n",
            "[0 1]\n",
            "(6612, 784)\n",
            "(2204, 784)\n",
            "(6612,)\n",
            "(2204,)\n"
          ]
        }
      ]
    },
    {
      "cell_type": "markdown",
      "source": [],
      "metadata": {
        "id": "Mm-Z-hvvoxof"
      }
    },
    {
      "cell_type": "code",
      "source": [
        "def shrinkdata(data, res):\n",
        "    \"\"\"\n",
        "    Reformats the input data at a lower resolution.\n",
        "    data: Our input data matrix\n",
        "    res:  The resolution (must be a factor of 28)\n",
        "    \"\"\"\n",
        "    data = data[0:].reshape([data.shape[0], 28, 28])\n",
        "    data = data.reshape(data.shape[0], res, int(28 / res), res, int(28 / res)).sum(axis=2).sum(axis=3)\n",
        "    data = data / ((28 / res)**2)\n",
        "    data = data[0:].reshape(data.shape[0], res**2)\n",
        "    return data\n",
        "\n",
        "def shrinkpoint(data, res):\n",
        "    \"\"\"\n",
        "    Same as shrinkdata, but for a single 784 pixel image\n",
        "    \"\"\"\n",
        "    data = data.reshape([28, 28])\n",
        "    data = data.reshape(res, int(28 / res), res, int(28 / res)).sum(axis=1).sum(axis=2)\n",
        "    data = data / ((28 / res)**2)\n",
        "    data = data.reshape(res**2)\n",
        "    return data"
      ],
      "metadata": {
        "id": "2bCgQ6_9oagM"
      },
      "execution_count": null,
      "outputs": []
    },
    {
      "cell_type": "code",
      "source": [
        "import random\n",
        "# from PIL import Image\n",
        "\n",
        "i = random.randint(0, 6000)\n",
        "i = 3\n",
        "resolution = 4\n",
        "\n",
        "x_shrunk = shrinkdata(x_train, resolution)\n",
        "image = x_shrunk[i].reshape([resolution, resolution])\n",
        "\n",
        "plt.imshow(image, cmap='Greys_r')\n",
        "print(f'This image is a {y_train[i]}')\n",
        "\n",
        "filename = f'imagenumber{i}_{y_train[i]}.vhd'\n",
        "\n",
        "# print(x_shrunk[i])\n",
        "\n",
        "# data = Image.fromarray(x_shrunk[i])\n",
        "# print(type(data))\n",
        "# data.save('test.png')"
      ],
      "metadata": {
        "id": "tDp2S7acocAc",
        "colab": {
          "base_uri": "https://localhost:8080/",
          "height": 453
        },
        "outputId": "33563fb2-72cb-4e79-fc13-f2dc08f8d64c"
      },
      "execution_count": null,
      "outputs": [
        {
          "output_type": "stream",
          "name": "stdout",
          "text": [
            "This image is a 1\n"
          ]
        },
        {
          "output_type": "display_data",
          "data": {
            "text/plain": [
              "<Figure size 640x480 with 1 Axes>"
            ],
            "image/png": "[encoded data removed]"
          },
          "metadata": {}
        }
      ]
    },
    {
      "cell_type": "markdown",
      "source": [
        "#Script to convert image to VHDL"
      ],
      "metadata": {
        "id": "C-vJbGCpvb5_"
      }
    },
    {
      "cell_type": "code",
      "source": [
        "i = 3\n",
        "resolution = 4\n",
        "\n",
        "x_shrunk = shrinkdata(x_train, resolution)\n",
        "image = x_shrunk[i].reshape([resolution, resolution])\n",
        "\n",
        "plt.imshow(image, cmap='Greys_r')\n",
        "print(f'This image is a {y_train[i]}')\n",
        "\n",
        "filename = f'im{i}_{y_train[i]}.vhd'\n",
        "\n",
        "width, height = 4, 4\n",
        "pixel_values = x_shrunk[i]\n",
        "\n",
        "file = open(filename, 'w')\n",
        "\n",
        "fileWidth = width\n",
        "xCoordinate = -1\n",
        "yCoordinate = 0\n",
        "\n",
        "file.write('library IEEE;\\nuse IEEE.std_logic_1164.all;\\nuse IEEE.numeric_std.all;')\n",
        "file.write(f'entity im{i}_{y_train[i]} is')\n",
        "file.write('    port(\\n')\n",
        "file.write('        clk : in std_logic;\\n')\n",
        "file.write('        totaladr: in unsigned(3 downto 0);\\n')\n",
        "file.write('        grayScale : out std_logic_vector(7 downto 0)\\n')\n",
        "file.write('        );\\n')\n",
        "file.write(f'end im{i}_{y_train[i]};\\n')\n",
        "file.write('\\n')\n",
        "file.write(f'architecture synth of im{i}_{y_train[i]} is\\n')\n",
        "file.write('begin\\n')\n",
        "file.write('    process (clk) begin\\n')\n",
        "file.write('        if rising_edge(clk) then\\n')\n",
        "file.write('            case totaladr is\\n')\n",
        "\n",
        "print(len(pixel_values))\n",
        "\n",
        "for i in range(len(pixel_values)):\n",
        "    xCoordinate += 1\n",
        "    if xCoordinate == fileWidth:\n",
        "        yCoordinate += 1\n",
        "        xCoordinate = 0\n",
        "\n",
        "    addr = str(f'{yCoordinate:02b}') + str(f'{xCoordinate:02b}')\n",
        "\n",
        "    grayScale = int(pixel_values[i] * 128)\n",
        "\n",
        "    color = str(f'{grayScale:08b}')\n",
        "    file.write('                when \"' + addr + '\" => grayScale <= \"' + color + '\";\\n')\n",
        "file.write('                when others => grayScale <= \"00000000\";\\n')\n",
        "\n",
        "file.write('        end case;\\n')\n",
        "file.write('    end if;\\n')\n",
        "file.write('    end process;\\n')\n",
        "file.write('end;\\n')\n",
        "\n",
        "file.close()"
      ],
      "metadata": {
        "colab": {
          "base_uri": "https://localhost:8080/",
          "height": 471
        },
        "id": "i3VloUmdn1Ab",
        "outputId": "6c8f7809-c962-4083-cd20-c3abf0d53d2f"
      },
      "execution_count": null,
      "outputs": [
        {
          "output_type": "stream",
          "name": "stdout",
          "text": [
            "This image is a 1\n",
            "16\n"
          ]
        },
        {
          "output_type": "display_data",
          "data": {
            "text/plain": [
              "<Figure size 640x480 with 1 Axes>"
            ],
            "image/png": "[encoded data removed]"
          },
          "metadata": {}
        }
      ]
    },
    {
      "cell_type": "markdown",
      "source": [
        "# Weight ROM Generation"
      ],
      "metadata": {
        "id": "iF7FNfY776de"
      }
    },
    {
      "cell_type": "code",
      "source": [
        "imageSelect = 1\n",
        "width, height = 4, 4\n",
        "\n",
        "read = open(\"4x4weights.txt\", \"r\")\n",
        "weight_values = []\n",
        "\n",
        "for x in read:\n",
        "  x = int(float(x) * 128)\n",
        "  x = bin(x % (1<<8))\n",
        "  x = x[2:]\n",
        "  while len(x) < 8:\n",
        "    x = '0' + x\n",
        "  weight_values.append(x)\n",
        "\n",
        "weight_values = weight_values[0:16]\n",
        "\n",
        "print(len(weight_values))\n",
        "\n",
        "file = open(\"WeightsRom.vhd\", 'w')\n",
        "\n",
        "fileWidth = width\n",
        "xCoordinate = -1\n",
        "yCoordinate = 0\n",
        "\n",
        "file.write('library IEEE;\\nuse IEEE.std_logic_1164.all;\\nuse IEEE.numeric_std.all;')\n",
        "file.write('entity WeightRom is')\n",
        "file.write('    port(\\n')\n",
        "file.write('        clk : in std_logic;\\n')\n",
        "file.write('        totaladr: in unsigned(3 downto 0);\\n')\n",
        "file.write('        weight : out signed(7 downto 0)\\n')\n",
        "file.write('        );\\n')\n",
        "file.write('end WeightRom;\\n')\n",
        "file.write('\\n')\n",
        "file.write('architecture synth of WeightRom is\\n')\n",
        "file.write('begin\\n')\n",
        "file.write('    process (clk) begin\\n')\n",
        "file.write('        if rising_edge(clk) then\\n')\n",
        "file.write('            case totaladr is\\n')\n",
        "\n",
        "\n",
        "for i in range(len(weight_values)):\n",
        "    xCoordinate += 1\n",
        "    if xCoordinate == fileWidth:\n",
        "        yCoordinate += 1\n",
        "        xCoordinate = 0\n",
        "\n",
        "    addr = str(f'{yCoordinate:02b}') + str(f'{xCoordinate:02b}')\n",
        "\n",
        "    color = str(f'{weight_values[i]}')\n",
        "    file.write('                when \"' + addr + '\" => weight <= \"' + color + '\";\\n')\n",
        "file.write('                when others => weight <= \"00000000\";\\n')\n",
        "\n",
        "file.write('        end case;\\n')\n",
        "file.write('    end if;\\n')\n",
        "file.write('    end process;\\n')\n",
        "file.write('end;\\n')\n",
        "\n",
        "file.close()"
      ],
      "metadata": {
        "id": "ZE1hwlnm7_av",
        "colab": {
          "base_uri": "https://localhost:8080/"
        },
        "outputId": "7d6dfafb-cc59-4904-e7ae-58edb45e35d1"
      },
      "execution_count": null,
      "outputs": [
        {
          "output_type": "stream",
          "name": "stdout",
          "text": [
            "16\n"
          ]
        }
      ]
    }
  ]
}