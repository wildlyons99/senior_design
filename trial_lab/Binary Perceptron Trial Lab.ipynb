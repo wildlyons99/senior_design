{
 "cells": [
  {
   "cell_type": "markdown",
   "metadata": {},
   "source": [
    "**These imports should run successfully (with a warning you can ignore). If they don't, it means you need to install them with the command listed on the lab handout! Close out of Jupyter first.**"
   ]
  },
  {
   "cell_type": "code",
   "execution_count": 1,
   "metadata": {},
   "outputs": [
    {
     "name": "stdout",
     "output_type": "stream",
     "text": [
      "Intel MKL WARNING: Support of Intel(R) Streaming SIMD Extensions 4.2 (Intel(R) SSE4.2) enabled only processors has been deprecated. Intel oneAPI Math Kernel Library 2025.0 will require Intel(R) Advanced Vector Extensions (Intel(R) AVX) instructions.\n",
      "Intel MKL WARNING: Support of Intel(R) Streaming SIMD Extensions 4.2 (Intel(R) SSE4.2) enabled only processors has been deprecated. Intel oneAPI Math Kernel Library 2025.0 will require Intel(R) Advanced Vector Extensions (Intel(R) AVX) instructions.\n"
     ]
    }
   ],
   "source": [
    "import pandas as pd\n",
    "import matplotlib.pyplot as plt\n",
    "import numpy as np\n",
    "from sklearn.model_selection import train_test_split"
   ]
  },
  {
   "cell_type": "markdown",
   "metadata": {},
   "source": [
    "# Binary Classifier Perceptron Model\n",
    "\n",
    "In this notebook, we'll write the essential functions to build and train a Perceptron that can classify images in the MNIST dataset. If you've never used Jupyter, these boxes are individual code snippets that can be run individually. Variables are stored in their scope across the entire document. Boxes like these are markdown, for documentation and instructional purposes!\n",
    "\n",
    "### I. Perceptron Functions\n",
    "\n",
    "To start, we'll write the functions that define a Binary Classifying Perceptron. Looking at Figure 1 in the handout, we can see that the overall behavior is split into two operations: the dot product in the neuron, and the activation function. Start by implementing a function that recreates the neuron. This function should compute the dot product between our input and weight vectors, then add the bias:"
   ]
  },
  {
   "cell_type": "code",
   "execution_count": 2,
   "metadata": {},
   "outputs": [],
   "source": [
    "def neuron(x, weights, bias):\n",
    "    \"\"\"\n",
    "    Computes the dot product between given data vector (x) and adds bias.\n",
    "    \"\"\"\n",
    "    z = np.dot(weights, x) + bias\n",
    "    return z"
   ]
  },
  {
   "cell_type": "markdown",
   "metadata": {},
   "source": [
    "Next, implement the activation function that will map the dot product to either a '1' or a '0' (as seen in Figure 2):"
   ]
  },
  {
   "cell_type": "code",
   "execution_count": 3,
   "metadata": {},
   "outputs": [],
   "source": [
    "def activation_function(prediction):\n",
    "    \"\"\"\n",
    "    Receives the output of the perceptron's function as parameter, and applies the\n",
    "    activation function on it.\n",
    "    In this simple model, the activation function is a unit step which classifies\n",
    "    negative inputs as 0 and positive inputs as 1.\n",
    "    \"\"\"\n",
    "    if prediction >= 0:\n",
    "        return 1\n",
    "    return 0"
   ]
  },
  {
   "cell_type": "markdown",
   "metadata": {},
   "source": [
    "These two functions together define the entirety of the Perceptron's behavior. Putting them together in a 'predict' function gives us the ability (with the correct weights) to classify vectors of pixels as either '1's or '0's!"
   ]
  },
  {
   "cell_type": "code",
   "execution_count": 4,
   "metadata": {},
   "outputs": [],
   "source": [
    "def predict(x, weights, bias):\n",
    "    \"\"\"\n",
    "    Predicts the class of a given data point (x) by running the input through \n",
    "    the neuron (dot product) and then applying the activation function.\n",
    "    \"\"\"\n",
    "    prediction = np.dot(weights, x) + bias\n",
    "    prediction = activation_function(prediction)\n",
    "    \n",
    "    return (prediction)"
   ]
  },
  {
   "cell_type": "markdown",
   "metadata": {},
   "source": [
    "### II. Training Functions\n",
    "\n",
    "Next, we will implement some functions that will train the weights of our model to make correct predictions. The key function here is 'foward_propagation', which acts on a single input vector and returns the loss. We're using mean-squared error loss (for a single input, just the squared difference between the prediction and the label) and its derivative."
   ]
  },
  {
   "cell_type": "code",
   "execution_count": 6,
   "metadata": {},
   "outputs": [],
   "source": [
    "def forward_propagation(x, y, weights, bias): \n",
    "    \"\"\"\n",
    "    x: training data as a vector (nparray), where each value corresponds\n",
    "        to a feature's value\n",
    "    y: label (0 or 1)\n",
    "    weights: weights of the perceptron\n",
    "    bias: bias\n",
    "    \"\"\"\n",
    "    y_pred = predict(x, weights, bias)\n",
    "    loss = (y_pred - y)**2   \n",
    "    d_loss = 2*(y_pred - y)\n",
    "    \n",
    "    return y_pred, loss, d_loss"
   ]
  },
  {
   "cell_type": "markdown",
   "metadata": {},
   "source": [
    "In training, each of the weights is adjusted by the partial derivative of the loss with respect to that weight. In 'back_propagation', we must now take the partial derivative (with respect to each weight) of the dot product performed in the neuron. The adding terms in the dot product all fall away, so we are left with the derivative of the specific weight multiplied by its corresponding pixel. The result is just the pixel value, which we multiply by d_loss calculated above to get a full list of partial derivatives."
   ]
  },
  {
   "cell_type": "code",
   "execution_count": 7,
   "metadata": {},
   "outputs": [],
   "source": [
    "def back_propagation(x, d_loss):\n",
    "    \"\"\"\n",
    "    Performs the Backpropagation step on a given data point.\n",
    "    Receives as input the data point, the Perceptron's weights and the partial derivative of the loss\n",
    "    over the predicted y.\n",
    "    The received derivative is used to calculate the partial derivative of the loss over the weight of each feature.\n",
    "    A list with the partial derivatives of the loss over each weight is returned.\n",
    "    \"\"\"\n",
    "    partial_derivates = list()\n",
    "    for feature_value in x:\n",
    "        partial_derivates.append(d_loss*feature_value)\n",
    "        \n",
    "    return partial_derivates  "
   ]
  },
  {
   "cell_type": "markdown",
   "metadata": {},
   "source": [
    "A final training function brings it all together. Now, 'x' is a 2D array of pixel vectors containing our entire dataset (and 'y' is the labels). To optimize the perceptron, we run through the dataset numerous times and adjust the weights by those partial derivatives until the error is sufficiently minimized."
   ]
  },
  {
   "cell_type": "code",
   "execution_count": 8,
   "metadata": {},
   "outputs": [],
   "source": [
    "def optimize_perceptron(x, y, learning_rate,  maxEpochs):\n",
    "    \"\"\"\n",
    "    Optimizes the Perceptron's weights by looping over the same steps for the specified number of epochs.\n",
    "    Steps:\n",
    "    1. Forward propagate data point\n",
    "    2. Backpropagate\n",
    "    3. Update weights\n",
    "    4. Check stop conditions while looping\n",
    "    \"\"\"\n",
    "    epoch = 0\n",
    "    error = 999\n",
    "    weights = np.random.rand(x.shape[1])\n",
    "    bias = np.random.rand()\n",
    "    \n",
    "    errors = list()\n",
    "    epochs = list()\n",
    "    \n",
    "    # Loop until stop conditions are met\n",
    "    while (epoch <= maxEpochs) and (error > 9e-4):\n",
    "        \n",
    "        loss_ = 0\n",
    "        # Loop over every data point\n",
    "        for i in range(x.shape[0]):\n",
    "            \n",
    "            # Forward Propagation on each data point\n",
    "            y_pred, loss, d_loss = forward_propagation(x[i], y[i], weights, bias)\n",
    "\n",
    "            # Backpropagation\n",
    "            partial_derivates = back_propagation(x[i], d_loss)\n",
    "            \n",
    "            # Learn by updating the weights of the perceptron\n",
    "            weights = weights - (learning_rate * np.array(partial_derivates))\n",
    "\n",
    "        # Evaluate the results\n",
    "        for index, feature_value_test in enumerate(x):\n",
    "            y_pred, loss, d_loss = forward_propagation(feature_value_test, y[index], weights, bias)\n",
    "            loss_ += loss\n",
    "\n",
    "        errors.append(loss_/len(x))\n",
    "        epochs.append(epoch)\n",
    "        error = errors[-1]\n",
    "        epoch += 1\n",
    "\n",
    "        print('Epoch {}. loss: {}'.format(epoch, errors[-1]))\n",
    "\n",
    "    \n",
    "    return weights, bias, errors"
   ]
  },
  {
   "cell_type": "markdown",
   "metadata": {},
   "source": [
    "### III. Data"
   ]
  },
  {
   "cell_type": "markdown",
   "metadata": {},
   "source": [
    "We're finally ready to get our data! We'll be using just the 0s and 1s from the MNIST dataset, a selection of handwritten digits used frequently as a benchmark for neural networks. This section is pre-written for you, but take a second to see how the data is formatted and split in training and test sets. "
   ]
  },
  {
   "cell_type": "code",
   "execution_count": 9,
   "metadata": {},
   "outputs": [
    {
     "name": "stdout",
     "output_type": "stream",
     "text": [
      "Data Matrix: (8816, 785)\n",
      "Data Labels: [0 1]\n",
      "Training Set Matrix: (6612, 784)\n",
      "Test Set Matrix: (2204, 784)\n",
      "Training Label Matrix: (6612,)\n",
      "Test Set Matrix: (2204,)\n"
     ]
    },
    {
     "data": {
      "text/plain": [
       "<matplotlib.image.AxesImage at 0x12da3c2d0>"
      ]
     },
     "execution_count": 9,
     "metadata": {},
     "output_type": "execute_result"
    },
    {
     "data": {
      "image/png": "[encoded data removed]",
      "text/plain": [
       "<Figure size 640x480 with 1 Axes>"
      ]
     },
     "metadata": {},
     "output_type": "display_data"
    }
   ],
   "source": [
    "data = pd.read_csv('data_mnist.zip')\n",
    "\n",
    "# Take only data with labels 1\n",
    "data_ones = data[data['label'] == 1]\n",
    "\n",
    "# Take only data with labels 0\n",
    "data_zeros = data[data['label'] == 0]\n",
    "\n",
    "# If you want to change either digit, just change the label value to either a 0 or a 1 so the activation function is still valid\n",
    "# Ex. data_sevens = data[data['label'] == 7]\n",
    "#     data_sevens['label'] = 0\n",
    "\n",
    "# Concatenate instances with label 0 and 1\n",
    "data = pd.concat([data_ones, data_zeros])\n",
    "print(\"Data Matrix: {}\".format(data.shape))\n",
    "print(\"Data Labels: {}\".format(np.unique(data['label'].to_numpy())))\n",
    "\n",
    "# Split dataset with 75% training data and 25% test data\n",
    "train_data, test_data = train_test_split(data, test_size=0.25, random_state=1, shuffle=True)\n",
    "\n",
    "# Split datasets into features and labels\n",
    "x_train = train_data.drop('label', axis=1).to_numpy()\n",
    "x_test = test_data.drop('label', axis=1).to_numpy()\n",
    "y_train = train_data['label'].to_numpy()\n",
    "y_test = test_data['label'].to_numpy()\n",
    "\n",
    "# Let's see our data! The second dimension is the number of pixels, 28x28 = 784\n",
    "print(\"Training Set Matrix: {}\".format(x_train.shape))\n",
    "print(\"Test Set Matrix: {}\".format(x_test.shape))\n",
    "print(\"Training Label Matrix: {}\".format(y_train.shape))\n",
    "print(\"Test Set Matrix: {}\".format(y_test.shape))\n",
    "\n",
    "# Rescale data points to values between 0 and 1 (pixels are originally 0-255)\n",
    "x_train = x_train / 255.\n",
    "x_test = x_test / 255.\n",
    "\n",
    "# An example image from the training set:\n",
    "plt.imshow(x_train[1].reshape([28, 28]), cmap='Greys_r')"
   ]
  },
  {
   "cell_type": "markdown",
   "metadata": {},
   "source": [
    "### IV. Training the Model\n",
    "\n",
    "We have our data, and we have our training functions. Let's run optimize_perceptron with these parameters and see how the model behaves. You should see the loss decreasing after each epoch."
   ]
  },
  {
   "cell_type": "code",
   "execution_count": 10,
   "metadata": {},
   "outputs": [
    {
     "name": "stdout",
     "output_type": "stream",
     "text": [
      "Epoch 1. loss: 0.014216575922565033\n",
      "Epoch 2. loss: 0.009528130671506351\n",
      "Epoch 3. loss: 0.0069570477918935265\n",
      "Epoch 4. loss: 0.004990925589836661\n",
      "Epoch 5. loss: 0.004234724742891712\n",
      "Epoch 6. loss: 0.004234724742891712\n",
      "Epoch 7. loss: 0.004083484573502722\n",
      "Epoch 8. loss: 0.003327283726557774\n",
      "Epoch 9. loss: 0.0028735632183908046\n",
      "Epoch 10. loss: 0.002571082879612825\n",
      "Epoch 11. loss: 0.0024198427102238356\n",
      "Epoch 12. loss: 0.0024198427102238356\n",
      "Epoch 13. loss: 0.002268602540834846\n",
      "Epoch 14. loss: 0.002268602540834846\n",
      "Epoch 15. loss: 0.0018148820326678765\n",
      "Epoch 16. loss: 0.001663641863278887\n",
      "Epoch 17. loss: 0.0015124016938898972\n",
      "Epoch 18. loss: 0.0012099213551119178\n",
      "Epoch 19. loss: 0.0013611615245009074\n",
      "Epoch 20. loss: 0.0013611615245009074\n",
      "Epoch 21. loss: 0.001058681185722928\n"
     ]
    }
   ],
   "source": [
    "weights, bias, errors = optimize_perceptron(x_train, y_train, learning_rate = 0.001, maxEpochs = 20)"
   ]
  },
  {
   "cell_type": "markdown",
   "metadata": {},
   "source": [
    "### V. Evaluating the Model\n",
    "\n",
    "We'll use this function to determine the accuracy of our model. It just loops through the entire test set and finds the ratio of correct predictions to total data."
   ]
  },
  {
   "cell_type": "code",
   "execution_count": 11,
   "metadata": {},
   "outputs": [
    {
     "name": "stdout",
     "output_type": "stream",
     "text": [
      "Accuracy:  0.9981851179673321\n"
     ]
    }
   ],
   "source": [
    "def calculate_accuracy(x_test, y_test, weights, bias):\n",
    "    \n",
    "    correct = 0\n",
    "    \n",
    "    for sample, label in zip(x_test, y_test):\n",
    "        prediction = predict(sample, weights, bias)\n",
    "\n",
    "        if prediction == label:\n",
    "            correct += 1\n",
    "\n",
    "    accuracy = correct / len(x_test)\n",
    "    return accuracy\n",
    "\n",
    "\n",
    "acc = calculate_accuracy(x_test, y_test, weights, bias)\n",
    "print('Accuracy: ', acc)"
   ]
  },
  {
   "cell_type": "markdown",
   "metadata": {},
   "source": [
    "### VI. Extracting Weights and Images\n",
    "\n",
    "Visualizing the weights of the Perceptron show how it has learned - you may see an abstract shape of a 0 or 1!"
   ]
  },
  {
   "cell_type": "code",
   "execution_count": 33,
   "metadata": {},
   "outputs": [
    {
     "data": {
      "image/png": "[encoded data removed]",
      "text/plain": [
       "<Figure size 640x480 with 1 Axes>"
      ]
     },
     "metadata": {},
     "output_type": "display_data"
    }
   ],
   "source": [
    "plt.imshow(weights.reshape([28,28]), cmap='Greys_r')\n",
    "plt.axis('off')\n",
    "plt.show()"
   ]
  },
  {
   "cell_type": "markdown",
   "metadata": {},
   "source": [
    "The final goal of this notebook is to port the weights into our VHDL module as ROM. To do this, we'll need to convert all the weights into signed 8-bit values. Then, we'll create a .vhd file with a case statement containing all these weights."
   ]
  },
  {
   "cell_type": "code",
   "execution_count": 74,
   "metadata": {},
   "outputs": [],
   "source": [
    "def twos_comp(num, bits):\n",
    "  \"\"\"Converts an integer to its two's complement binary representation as a string.\n",
    "    num: The integer to convert.\n",
    "    bits: The number of bits to use for the representation.\n",
    "  \"\"\"\n",
    "  if num < 0:\n",
    "    num = (1 << bits) + num  # Adjust negative numbers to their two's complement equivalent\n",
    "  return f'{num:0{bits}b}'\n",
    "\n",
    "weight_values = []\n",
    "for w in weights:\n",
    "    weight_val = int(w * 127)\n",
    "    weight_values.append(twos_comp(weight_val, 8))"
   ]
  },
  {
   "cell_type": "code",
   "execution_count": 75,
   "metadata": {},
   "outputs": [],
   "source": [
    "file = open(\"WeightsRom.vhd\", 'w')\n",
    "\n",
    "fileWidth = 28\n",
    "xCoordinate = -1\n",
    "yCoordinate = 0\n",
    "\n",
    "file.write('library IEEE;\\nuse IEEE.std_logic_1164.all;\\nuse IEEE.numeric_std.all;')\n",
    "file.write('entity WeightRom is')\n",
    "file.write('    port(\\n')\n",
    "file.write('        clk : in std_logic;\\n')\n",
    "file.write('        totaladr: in unsigned(9 downto 0);\\n')\n",
    "file.write('        weight : out signed(7 downto 0)\\n')\n",
    "file.write('        );\\n')\n",
    "file.write('end WeightRom;\\n')\n",
    "file.write('\\n')\n",
    "file.write('architecture synth of WeightRom is\\n')\n",
    "file.write('begin\\n')\n",
    "file.write('    process (clk) begin\\n')\n",
    "file.write('        if rising_edge(clk) then\\n')\n",
    "file.write('            case totaladr is\\n')\n",
    "\n",
    "\n",
    "for i in range(len(weight_values)):\n",
    "    xCoordinate += 1\n",
    "    if xCoordinate == fileWidth:\n",
    "        yCoordinate += 1\n",
    "        xCoordinate = 0\n",
    "\n",
    "    addr = str(f'{yCoordinate:05b}') + str(f'{xCoordinate:05b}')\n",
    "\n",
    "    color = str(f'{weight_values[i]}')\n",
    "    file.write('                when \"' + addr + '\" => weight <= \"' + color + '\";\\n')\n",
    "file.write('                when others => weight <= \"00000000\";\\n')\n",
    "\n",
    "file.write('        end case;\\n')\n",
    "file.write('    end if;\\n')\n",
    "file.write('    end process;\\n')\n",
    "file.write('end;\\n')\n",
    "\n",
    "file.close()"
   ]
  },
  {
   "cell_type": "code",
   "execution_count": 16,
   "metadata": {},
   "outputs": [
    {
     "name": "stdout",
     "output_type": "stream",
     "text": [
      "This image is a 1\n",
      "784\n"
     ]
    },
    {
     "data": {
      "image/png": "[encoded data removed]",
      "text/plain": [
       "<Figure size 640x480 with 1 Axes>"
      ]
     },
     "metadata": {},
     "output_type": "display_data"
    }
   ],
   "source": [
    "i = 3\n",
    "image = x_train[i]\n",
    "\n",
    "plt.imshow(image.reshape([28, 28]), cmap='Greys_r')\n",
    "print(f'This image is a {y_train[i]}')\n",
    "\n",
    "filename = f'im{i}_{y_train[i]}.vhd'\n",
    "\n",
    "pixel_values = image\n",
    "\n",
    "file = open(filename, 'w')\n",
    "\n",
    "fileWidth = 28\n",
    "xCoordinate = -1\n",
    "yCoordinate = 0\n",
    "\n",
    "file.write('library IEEE;\\nuse IEEE.std_logic_1164.all;\\nuse IEEE.numeric_std.all;')\n",
    "file.write(f'entity im{i}_{y_train[i]} is')\n",
    "file.write('    port(\\n')\n",
    "file.write('        clk : in std_logic;\\n')\n",
    "file.write('        totaladr: in unsigned(9 downto 0);\\n')\n",
    "file.write('        grayScale : out std_logic_vector(7 downto 0)\\n')\n",
    "file.write('        );\\n')\n",
    "file.write(f'end im{i}_{y_train[i]};\\n')\n",
    "file.write('\\n')\n",
    "file.write(f'architecture synth of im{i}_{y_train[i]} is\\n')\n",
    "file.write('begin\\n')\n",
    "file.write('    process (clk) begin\\n')\n",
    "file.write('        if rising_edge(clk) then\\n')\n",
    "file.write('            case totaladr is\\n')\n",
    "\n",
    "print(len(pixel_values))\n",
    "\n",
    "for i in range(len(pixel_values)):\n",
    "    xCoordinate += 1\n",
    "    if xCoordinate == fileWidth:\n",
    "        yCoordinate += 1\n",
    "        xCoordinate = 0\n",
    "\n",
    "    addr = str(f'{yCoordinate:05b}') + str(f'{xCoordinate:05b}')\n",
    "\n",
    "    grayScale = int(pixel_values[i] * 128)\n",
    "\n",
    "    color = str(f'{grayScale:08b}')\n",
    "    file.write('                when \"' + addr + '\" => grayScale <= \"' + color + '\";\\n')\n",
    "file.write('                when others => grayScale <= \"00000000\";\\n')\n",
    "\n",
    "file.write('        end case;\\n')\n",
    "file.write('    end if;\\n')\n",
    "file.write('    end process;\\n')\n",
    "file.write('end;\\n')\n",
    "\n",
    "file.close()"
   ]
  }
 ],
 "metadata": {
  "kernelspec": {
   "display_name": "Python 3 (ipykernel)",
   "language": "python",
   "name": "python3"
  },
  "language_info": {
   "codemirror_mode": {
    "name": "ipython",
    "version": 3
   },
   "file_extension": ".py",
   "mimetype": "text/x-python",
   "name": "python",
   "nbconvert_exporter": "python",
   "pygments_lexer": "ipython3",
   "version": "3.11.7"
  }
 },
 "nbformat": 4,
 "nbformat_minor": 4
}
