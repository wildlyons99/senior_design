{
 "cells": [
  {
   "cell_type": "code",
   "execution_count": 6,
   "metadata": {},
   "outputs": [
    {
     "name": "stdout",
     "output_type": "stream",
     "text": [
      "Intel MKL WARNING: Support of Intel(R) Streaming SIMD Extensions 4.2 (Intel(R) SSE4.2) enabled only processors has been deprecated. Intel oneAPI Math Kernel Library 2025.0 will require Intel(R) Advanced Vector Extensions (Intel(R) AVX) instructions.\n",
      "Intel MKL WARNING: Support of Intel(R) Streaming SIMD Extensions 4.2 (Intel(R) SSE4.2) enabled only processors has been deprecated. Intel oneAPI Math Kernel Library 2025.0 will require Intel(R) Advanced Vector Extensions (Intel(R) AVX) instructions.\n"
     ]
    }
   ],
   "source": [
    "import pandas as pd\n",
    "import matplotlib.pyplot as plt\n",
    "import numpy as np\n",
    "from sklearn.model_selection import train_test_split"
   ]
  },
  {
   "cell_type": "markdown",
   "metadata": {},
   "source": [
    "### This is a single perceptron model that DOES NOT use PyTorch!\n",
    "\n",
    "Propagation and optimization functions are the same as slideshow, except our activation function is not a sigmoid but a unit step (so we ignore its derivative)."
   ]
  },
  {
   "cell_type": "code",
   "execution_count": 1,
   "metadata": {},
   "outputs": [],
   "source": [
    "def forward_propagation(x, y, weights, bias): \n",
    "    \"\"\"\n",
    "    x: training data as a vector (nparray), where each value corresponds\n",
    "        to a feature's value\n",
    "    y: label (0 or 1)\n",
    "    weights: weights of the perceptron\n",
    "    bias: bias\n",
    "    \"\"\"\n",
    "    y_pred = predict(x, weights, bias)\n",
    "    loss = (y_pred - y)**2   \n",
    "    d_loss = 2*(y_pred - y)\n",
    "    \n",
    "    return y_pred, loss, d_loss"
   ]
  },
  {
   "cell_type": "code",
   "execution_count": 2,
   "metadata": {},
   "outputs": [],
   "source": [
    "def optimize_perceptron(x, y, learning_rate,  maxEpochs, ):\n",
    "    \"\"\"\n",
    "    Optimizes the Perceptron's weights by looping over the same steps for the specified number of epochs.\n",
    "    Steps:\n",
    "    1. Forward propagate data point\n",
    "    2. Backpropagate\n",
    "    3. Update weights\n",
    "    4. Check stop conditions while looping\n",
    "    \"\"\"\n",
    "    epoch = 0\n",
    "    error = 999\n",
    "    weights = np.random.rand(x.shape[1])\n",
    "    bias = np.random.rand()\n",
    "    \n",
    "    errors = list()\n",
    "    epochs = list()\n",
    "    \n",
    "    # Loop until stop conditions are met\n",
    "    while (epoch <= maxEpochs) and (error > 9e-4):\n",
    "        \n",
    "        loss_ = 0\n",
    "        # Loop over every data point\n",
    "        for i in range(x.shape[0]):\n",
    "            \n",
    "            # Forward Propagation on each data point\n",
    "            y_pred, loss, d_loss = forward_propagation(x[i], y[i], weights, bias)\n",
    "\n",
    "            # Backpropagation\n",
    "            partial_derivates = backpropagation(x[i], d_loss)\n",
    "            \n",
    "            # Learn by updating the weights of the perceptron\n",
    "            weights = weights - (learning_rate * np.array(partial_derivates))\n",
    "\n",
    "        # Evaluate the results\n",
    "        for index, feature_value_test in enumerate(x):\n",
    "            y_pred, loss, d_loss = forward_propagation(feature_value_test, y[index], weights, bias)\n",
    "            loss_ += loss\n",
    "\n",
    "        errors.append(loss_/len(x))\n",
    "        epochs.append(epoch)\n",
    "        error = errors[-1]\n",
    "        epoch += 1\n",
    "\n",
    "        print('Epoch {}. loss: {}'.format(epoch, errors[-1]))\n",
    "\n",
    "    \n",
    "    return weights, bias, errors"
   ]
  },
  {
   "cell_type": "code",
   "execution_count": 3,
   "metadata": {},
   "outputs": [],
   "source": [
    "def activation_function(prediction):\n",
    "    \"\"\"\n",
    "    Receives the output of the perceptron's function as parameter, and applies the\n",
    "    activation function on it.\n",
    "    In this simple model, the activation function is a unit step which classifies\n",
    "    negative inputs as 0 and positive inputs as 1.\n",
    "    \"\"\"\n",
    "    if prediction >= 0:\n",
    "        return 1\n",
    "    return 0\n",
    "  \n",
    "\n",
    "def predict(x, weights, bias):\n",
    "    \"\"\"\n",
    "    Predicts the class of a given data point (x) by running the input through \n",
    "    the neuron (dot product) and then applying the activation function.\n",
    "    \"\"\"\n",
    "    prediction = np.dot(weights, x) + bias\n",
    "    prediction = activation_function(prediction)\n",
    "    \n",
    "    return (prediction)"
   ]
  },
  {
   "cell_type": "code",
   "execution_count": 4,
   "metadata": {},
   "outputs": [],
   "source": [
    "def backpropagation(x, d_loss):\n",
    "    \"\"\"\n",
    "    Performs the Backpropagation step on a given data point.\n",
    "    Receives as input the data point, the Perceptron's weights and the partial derivative of the loss\n",
    "    over the predicted y.\n",
    "    The received derivative is used to calculate the partial derivative of the loss over the weight of each feature.\n",
    "    A list with the partial derivatives of the loss over each weight is returned.\n",
    "    \"\"\"\n",
    "    partial_derivates = list()\n",
    "    for feature_value in x:\n",
    "        partial_derivates.append(d_loss*feature_value)\n",
    "        \n",
    "    return partial_derivates   "
   ]
  },
  {
   "cell_type": "markdown",
   "metadata": {},
   "source": [
    "### Formatting our Data"
   ]
  },
  {
   "cell_type": "code",
   "execution_count": 31,
   "metadata": {},
   "outputs": [
    {
     "name": "stdout",
     "output_type": "stream",
     "text": [
      "(8816, 785)\n",
      "[0 1]\n",
      "(6612, 784)\n",
      "(2204, 784)\n",
      "(6612,)\n",
      "(2204,)\n"
     ]
    }
   ],
   "source": [
    "data = pd.read_csv('data_mnist.zip')\n",
    "\n",
    "# Take only data with labels 1\n",
    "data_ones = data[data['label'] == 1]\n",
    "\n",
    "# Take only data with labels 0\n",
    "data_zeros = data[data['label'] == 0]\n",
    "\n",
    "# If you want to change either digit, just change the label value to either a 0 or a 1 so the math works out\n",
    "# Ex. data_zeros = data[data['label'] == 7]\n",
    "#     data_zeros['label'] = 0\n",
    "\n",
    "# Concatenate instances with label 0 and 1\n",
    "data = pd.concat([data_ones, data_zeros])\n",
    "print(data.shape)\n",
    "print(np.unique(data['label'].to_numpy()))\n",
    "\n",
    "# # Split dataset with 75% training data and 25% test data\n",
    "train_data, test_data = train_test_split(data, test_size=0.25, random_state=1, shuffle=True)\n",
    "\n",
    "# Split datasets into features and labels\n",
    "x_train = train_data.drop('label', axis=1).to_numpy()\n",
    "x_test = test_data.drop('label', axis=1).to_numpy()\n",
    "y_train = train_data['label'].to_numpy()\n",
    "y_test = test_data['label'].to_numpy()\n",
    "\n",
    "print(x_train.shape)\n",
    "print(x_test.shape)\n",
    "print(y_train.shape)\n",
    "print(y_test.shape)\n",
    "\n",
    "# Rescale data points to values between 0 and 1 (pixels are originally 0-255)\n",
    "x_train = x_train / 255.\n",
    "x_test = x_test / 255."
   ]
  },
  {
   "cell_type": "code",
   "execution_count": 30,
   "metadata": {},
   "outputs": [],
   "source": [
    "def shrinkdata(data, res):\n",
    "    \"\"\"\n",
    "    Reformats the input data at a lower resolution.\n",
    "    data: Our input data matrix\n",
    "    res:  The resolution (must be a factor of 28)\n",
    "    \"\"\"\n",
    "    data = data[0:].reshape([data.shape[0], 28, 28])\n",
    "    data = data.reshape(data.shape[0], res, int(28 / res), res, int(28 / res)).sum(axis=2).sum(axis=3)\n",
    "    data = data / ((28 / res)**2)\n",
    "    data = data[0:].reshape(data.shape[0], res**2)\n",
    "    return data\n",
    "\n",
    "def shrinkpoint(data, res):\n",
    "    \"\"\"\n",
    "    Same as shrinkdata, but for a single 784 pixel image\n",
    "    \"\"\"\n",
    "    data = data.reshape([28, 28])\n",
    "    data = data.reshape(res, int(28 / res), res, int(28 / res)).sum(axis=1).sum(axis=2)\n",
    "    data = data / ((28 / res)**2)\n",
    "    data = data.reshape(res**2)\n",
    "    return data"
   ]
  },
  {
   "cell_type": "code",
   "execution_count": 32,
   "metadata": {},
   "outputs": [
    {
     "data": {
      "text/plain": [
       "<matplotlib.image.AxesImage at 0x12f0a6a10>"
      ]
     },
     "execution_count": 32,
     "metadata": {},
     "output_type": "execute_result"
    },
    {
     "data": {
      "image/png": "[encoded data removed]",
      "text/plain": [
       "<Figure size 640x480 with 1 Axes>"
      ]
     },
     "metadata": {},
     "output_type": "display_data"
    }
   ],
   "source": [
    "plt.imshow(x_train[1].reshape([28, 28]), cmap='Greys_r')"
   ]
  },
  {
   "cell_type": "code",
   "execution_count": 33,
   "metadata": {},
   "outputs": [
    {
     "data": {
      "text/plain": [
       "<matplotlib.image.AxesImage at 0x12f33ae50>"
      ]
     },
     "execution_count": 33,
     "metadata": {},
     "output_type": "execute_result"
    },
    {
     "data": {
      "image/png": "[encoded data removed]",
      "text/plain": [
       "<Figure size 640x480 with 1 Axes>"
      ]
     },
     "metadata": {},
     "output_type": "display_data"
    }
   ],
   "source": [
    "resolution = 4 # 4x4 image resolution\n",
    "x_train_shrunk = shrinkdata(x_train, resolution)\n",
    "x_test_shrunk = shrinkdata(x_test, resolution)\n",
    "\n",
    "plt.imshow(x_train_shrunk[1].reshape([resolution, resolution]), cmap='Greys_r')"
   ]
  },
  {
   "cell_type": "code",
   "execution_count": 58,
   "metadata": {},
   "outputs": [],
   "source": [
    "def calculate_accuracy(x_test, y_test, weights, bias, resolution):\n",
    "    \n",
    "    correct = 0\n",
    "\n",
    "    for sample, label in zip(x_test, y_test):\n",
    "\n",
    "        #print(sample.shape)\n",
    "        prediction = predict(shrinkpoint(sample, resolution), weights, bias)\n",
    "\n",
    "        if prediction == label:\n",
    "            correct += 1\n",
    "\n",
    "    accuracy = correct / len(x_test)\n",
    "    return accuracy"
   ]
  },
  {
   "cell_type": "code",
   "execution_count": 44,
   "metadata": {},
   "outputs": [
    {
     "name": "stdout",
     "output_type": "stream",
     "text": [
      "Epoch 1. loss: 0.14156079854809436\n",
      "Epoch 2. loss: 0.09180278281911676\n",
      "Epoch 3. loss: 0.06941923774954628\n",
      "Epoch 4. loss: 0.0544464609800363\n",
      "Epoch 5. loss: 0.04673321234119782\n",
      "Epoch 6. loss: 0.04204476709013914\n",
      "Epoch 7. loss: 0.03871748336358137\n",
      "Epoch 8. loss: 0.036297640653357534\n",
      "Epoch 9. loss: 0.03327283726557774\n",
      "Epoch 10. loss: 0.03206291591046582\n",
      "Epoch 11. loss: 0.031004234724742893\n",
      "Epoch 12. loss: 0.029794313369630974\n",
      "Epoch 13. loss: 0.029794313369630974\n",
      "Epoch 14. loss: 0.029189352692075014\n",
      "Epoch 15. loss: 0.028433151845130067\n",
      "Epoch 16. loss: 0.0279794313369631\n",
      "Epoch 17. loss: 0.027525710828796127\n",
      "Epoch 18. loss: 0.027374470659407138\n",
      "Epoch 19. loss: 0.02676950998185118\n",
      "Epoch 20. loss: 0.02692075015124017\n",
      "Epoch 21. loss: 0.026467029643073202\n",
      "Epoch 22. loss: 0.02631578947368421\n",
      "Epoch 23. loss: 0.02601330913490623\n",
      "Epoch 24. loss: 0.025559588626739262\n",
      "Epoch 25. loss: 0.02571082879612825\n",
      "Epoch 26. loss: 0.02571082879612825\n",
      "Epoch 27. loss: 0.02571082879612825\n",
      "Epoch 28. loss: 0.025559588626739262\n",
      "Epoch 29. loss: 0.025408348457350273\n",
      "Epoch 30. loss: 0.025408348457350273\n",
      "Epoch 31. loss: 0.025257108287961284\n",
      "Epoch 32. loss: 0.025257108287961284\n",
      "Epoch 33. loss: 0.025105868118572294\n",
      "Epoch 34. loss: 0.024803387779794312\n",
      "Epoch 35. loss: 0.024803387779794312\n",
      "Epoch 36. loss: 0.024652147610405323\n",
      "Epoch 37. loss: 0.024500907441016333\n",
      "Epoch 38. loss: 0.024652147610405323\n",
      "Epoch 39. loss: 0.0249546279491833\n",
      "Epoch 40. loss: 0.0249546279491833\n",
      "Epoch 41. loss: 0.024652147610405323\n",
      "Epoch 42. loss: 0.024500907441016333\n",
      "Epoch 43. loss: 0.024500907441016333\n",
      "Epoch 44. loss: 0.024652147610405323\n",
      "Epoch 45. loss: 0.024500907441016333\n",
      "Epoch 46. loss: 0.024349667271627344\n",
      "Epoch 47. loss: 0.024047186932849365\n",
      "Epoch 48. loss: 0.024349667271627344\n",
      "Epoch 49. loss: 0.024047186932849365\n",
      "Epoch 50. loss: 0.024047186932849365\n",
      "Epoch 51. loss: 0.024198427102238355\n",
      "Epoch 52. loss: 0.024198427102238355\n",
      "Epoch 53. loss: 0.024047186932849365\n",
      "Epoch 54. loss: 0.024047186932849365\n",
      "Epoch 55. loss: 0.024047186932849365\n",
      "Epoch 56. loss: 0.024047186932849365\n",
      "Epoch 57. loss: 0.024047186932849365\n",
      "Epoch 58. loss: 0.023895946763460376\n",
      "Epoch 59. loss: 0.023744706594071387\n",
      "Epoch 60. loss: 0.023744706594071387\n",
      "Epoch 61. loss: 0.023744706594071387\n",
      "Epoch 62. loss: 0.023895946763460376\n",
      "Epoch 63. loss: 0.023744706594071387\n",
      "Epoch 64. loss: 0.024198427102238355\n",
      "Epoch 65. loss: 0.023744706594071387\n",
      "Epoch 66. loss: 0.023895946763460376\n",
      "Epoch 67. loss: 0.023895946763460376\n",
      "Epoch 68. loss: 0.023442226255293405\n",
      "Epoch 69. loss: 0.024349667271627344\n",
      "Epoch 70. loss: 0.024047186932849365\n",
      "Epoch 71. loss: 0.024198427102238355\n",
      "Epoch 72. loss: 0.024198427102238355\n",
      "Epoch 73. loss: 0.024047186932849365\n",
      "Epoch 74. loss: 0.024198427102238355\n",
      "Epoch 75. loss: 0.024047186932849365\n",
      "Epoch 76. loss: 0.024047186932849365\n",
      "Epoch 77. loss: 0.024047186932849365\n",
      "Epoch 78. loss: 0.024198427102238355\n",
      "Epoch 79. loss: 0.024047186932849365\n",
      "Epoch 80. loss: 0.023895946763460376\n",
      "Epoch 81. loss: 0.024047186932849365\n",
      "Epoch 82. loss: 0.024047186932849365\n",
      "Epoch 83. loss: 0.024047186932849365\n",
      "Epoch 84. loss: 0.023895946763460376\n",
      "Epoch 85. loss: 0.023895946763460376\n",
      "Epoch 86. loss: 0.023744706594071387\n",
      "Epoch 87. loss: 0.023593466424682397\n",
      "Epoch 88. loss: 0.023593466424682397\n",
      "Epoch 89. loss: 0.023593466424682397\n",
      "Epoch 90. loss: 0.023593466424682397\n",
      "Epoch 91. loss: 0.023593466424682397\n",
      "Epoch 92. loss: 0.023442226255293405\n",
      "Epoch 93. loss: 0.023442226255293405\n",
      "Epoch 94. loss: 0.023593466424682397\n",
      "Epoch 95. loss: 0.023290986085904415\n",
      "Epoch 96. loss: 0.023139745916515426\n",
      "Epoch 97. loss: 0.022988505747126436\n",
      "Epoch 98. loss: 0.022988505747126436\n",
      "Epoch 99. loss: 0.023442226255293405\n",
      "Epoch 100. loss: 0.023290986085904415\n",
      "Epoch 101. loss: 0.022837265577737447\n"
     ]
    }
   ],
   "source": [
    "weights, bias, errors = optimize_perceptron(x_train_shrunk, y_train, learning_rate = 0.001, maxEpochs = 100)"
   ]
  },
  {
   "cell_type": "code",
   "execution_count": 62,
   "metadata": {},
   "outputs": [
    {
     "ename": "ValueError",
     "evalue": "shapes (4,4) and (16,) not aligned: 4 (dim 1) != 16 (dim 0)",
     "output_type": "error",
     "traceback": [
      "\u001b[0;31m---------------------------------------------------------------------------\u001b[0m",
      "\u001b[0;31mValueError\u001b[0m                                Traceback (most recent call last)",
      "Cell \u001b[0;32mIn[62], line 1\u001b[0m\n\u001b[0;32m----> 1\u001b[0m acc \u001b[38;5;241m=\u001b[39m calculate_accuracy(x_test, y_test, weights, bias, resolution)\n\u001b[1;32m      2\u001b[0m \u001b[38;5;28mprint\u001b[39m(\u001b[38;5;124m'\u001b[39m\u001b[38;5;124mAccuracy: \u001b[39m\u001b[38;5;124m'\u001b[39m, acc)\n",
      "Cell \u001b[0;32mIn[58], line 9\u001b[0m, in \u001b[0;36mcalculate_accuracy\u001b[0;34m(x_test, y_test, weights, bias, resolution)\u001b[0m\n\u001b[1;32m      7\u001b[0m sample \u001b[38;5;241m=\u001b[39m shrinkpoint(sample, resolution)\n\u001b[1;32m      8\u001b[0m \u001b[38;5;66;03m#print(sample.shape)\u001b[39;00m\n\u001b[0;32m----> 9\u001b[0m prediction \u001b[38;5;241m=\u001b[39m predict(sample, weights, bias)\n\u001b[1;32m     11\u001b[0m \u001b[38;5;28;01mif\u001b[39;00m prediction \u001b[38;5;241m==\u001b[39m label:\n\u001b[1;32m     12\u001b[0m     correct \u001b[38;5;241m+\u001b[39m\u001b[38;5;241m=\u001b[39m \u001b[38;5;241m1\u001b[39m\n",
      "Cell \u001b[0;32mIn[3], line 18\u001b[0m, in \u001b[0;36mpredict\u001b[0;34m(x, weights, bias)\u001b[0m\n\u001b[1;32m     13\u001b[0m \u001b[38;5;28;01mdef\u001b[39;00m \u001b[38;5;21mpredict\u001b[39m(x, weights, bias):\n\u001b[1;32m     14\u001b[0m \u001b[38;5;250m    \u001b[39m\u001b[38;5;124;03m\"\"\"\u001b[39;00m\n\u001b[1;32m     15\u001b[0m \u001b[38;5;124;03m    Predicts the class of a given data point (x) by running the input through \u001b[39;00m\n\u001b[1;32m     16\u001b[0m \u001b[38;5;124;03m    the neuron (dot product) and then applying the activation function.\u001b[39;00m\n\u001b[1;32m     17\u001b[0m \u001b[38;5;124;03m    \"\"\"\u001b[39;00m\n\u001b[0;32m---> 18\u001b[0m     prediction \u001b[38;5;241m=\u001b[39m np\u001b[38;5;241m.\u001b[39mdot(weights, x) \u001b[38;5;241m+\u001b[39m bias\n\u001b[1;32m     19\u001b[0m     prediction \u001b[38;5;241m=\u001b[39m activation_function(prediction)\n\u001b[1;32m     21\u001b[0m     \u001b[38;5;28;01mreturn\u001b[39;00m (prediction)\n",
      "\u001b[0;31mValueError\u001b[0m: shapes (4,4) and (16,) not aligned: 4 (dim 1) != 16 (dim 0)"
     ]
    }
   ],
   "source": [
    "acc = calculate_accuracy(x_test, y_test, weights, bias, resolution)\n",
    "print('Accuracy: ', acc)"
   ]
  },
  {
   "cell_type": "code",
   "execution_count": 60,
   "metadata": {},
   "outputs": [
    {
     "data": {
      "image/png": "[encoded data removed]",
      "text/plain": [
       "<Figure size 640x480 with 1 Axes>"
      ]
     },
     "metadata": {},
     "output_type": "display_data"
    },
    {
     "name": "stdout",
     "output_type": "stream",
     "text": [
      "[[ 0.36195475  0.17580883 -0.30104228  0.15038006]\n",
      " [ 0.42064339 -0.59772726  0.32295347 -0.57107416]\n",
      " [-0.84932175 -0.39803488  0.00199069 -0.3757247 ]\n",
      " [ 0.6921745  -0.75092816 -0.40904427  0.6808553 ]]\n"
     ]
    }
   ],
   "source": [
    "weights.resize((resolution, resolution))\n",
    "plt.imshow(weights, cmap='Greys_r')\n",
    "plt.axis('off')\n",
    "plt.show()\n",
    "\n",
    "print(weights)"
   ]
  }
 ],
 "metadata": {
  "kernelspec": {
   "display_name": "Python 3 (ipykernel)",
   "language": "python",
   "name": "python3"
  },
  "language_info": {
   "codemirror_mode": {
    "name": "ipython",
    "version": 3
   },
   "file_extension": ".py",
   "mimetype": "text/x-python",
   "name": "python",
   "nbconvert_exporter": "python",
   "pygments_lexer": "ipython3",
   "version": "3.11.7"
  }
 },
 "nbformat": 4,
 "nbformat_minor": 4
}
