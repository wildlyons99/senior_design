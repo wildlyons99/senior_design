{
 "cells": [
  {
   "cell_type": "code",
   "execution_count": 3,
   "metadata": {},
   "outputs": [],
   "source": [
    "import pandas as pd\n",
    "import matplotlib.pyplot as plt\n",
    "import numpy as np\n",
    "from sklearn.model_selection import train_test_split"
   ]
  },
  {
   "cell_type": "markdown",
   "metadata": {},
   "source": [
    "### This is a single perceptron model that DOES NOT use PyTorch!\n",
    "\n",
    "Propagation and optimization functions are the same as slideshow, except our activation function is not a sigmoid but a unit step (so we ignore its derivative)."
   ]
  },
  {
   "cell_type": "code",
   "execution_count": 4,
   "metadata": {},
   "outputs": [],
   "source": [
    "def forward_propagation(x, y, weights, bias):\n",
    "    \"\"\"\n",
    "    x: training data as a vector (nparray), where each value corresponds\n",
    "        to a feature's value\n",
    "    y: label (0 or 1)\n",
    "    weights: weights of the perceptron\n",
    "    bias: bias\n",
    "    \"\"\"\n",
    "    y_pred = predict(x, weights, bias)\n",
    "    loss = (y_pred - y)**2\n",
    "    d_loss = 2*(y_pred - y)\n",
    "\n",
    "    return y_pred, loss, d_loss"
   ]
  },
  {
   "cell_type": "code",
   "execution_count": 5,
   "metadata": {},
   "outputs": [],
   "source": [
    "def optimize_perceptron(x, y, learning_rate,  maxEpochs, ):\n",
    "    \"\"\"\n",
    "    Optimizes the Perceptron's weights by looping over the same steps for the specified number of epochs.\n",
    "    Steps:\n",
    "    1. Forward propagate data point\n",
    "    2. Backpropagate\n",
    "    3. Update weights\n",
    "    4. Check stop conditions while looping\n",
    "    \"\"\"\n",
    "    epoch = 0\n",
    "    error = 999\n",
    "    weights = np.random.rand(x.shape[1])\n",
    "    bias = np.random.rand()\n",
    "\n",
    "    errors = list()\n",
    "    epochs = list()\n",
    "\n",
    "    # Loop until stop conditions are met\n",
    "    while (epoch <= maxEpochs) and (error > 9e-4):\n",
    "\n",
    "        loss_ = 0\n",
    "        # Loop over every data point\n",
    "        for i in range(x.shape[0]):\n",
    "\n",
    "            # Forward Propagation on each data point\n",
    "            y_pred, loss, d_loss = forward_propagation(x[i], y[i], weights, bias)\n",
    "\n",
    "            # Backpropagation\n",
    "            partial_derivates = backpropagation(x[i], d_loss)\n",
    "\n",
    "            # Learn by updating the weights of the perceptron\n",
    "            weights = weights - (learning_rate * np.array(partial_derivates))\n",
    "\n",
    "        # Evaluate the results\n",
    "        for index, feature_value_test in enumerate(x):\n",
    "            y_pred, loss, d_loss = forward_propagation(feature_value_test, y[index], weights, bias)\n",
    "            loss_ += loss\n",
    "\n",
    "        errors.append(loss_/len(x))\n",
    "        epochs.append(epoch)\n",
    "        error = errors[-1]\n",
    "        epoch += 1\n",
    "\n",
    "        print('Epoch {}. loss: {}'.format(epoch, errors[-1]))\n",
    "\n",
    "\n",
    "    return weights, bias, errors\n",
    "\n",
    "# def optimize_perceptron(x, y, learning_rate, maxEpochs, ):\n",
    "#     \"\"\"\n",
    "#     Optimizes the Perceptron's weights by looping over the same steps for the specified number of epochs.\n",
    "#     Steps:\n",
    "#     1. Forward propagate data point\n",
    "#     2. Backpropagate\n",
    "#     3. Update weights\n",
    "#     4. Check stop conditions while looping\n",
    "#     \"\"\"\n",
    "#     epoch = 0\n",
    "#     error = 999\n",
    "#     weights = np.random.rand(x.shape[1])  # initialize weights randomly\n",
    "#     bias = np.random.rand()  # initialize bias randomly\n",
    "\n",
    "#     errors = list()\n",
    "#     epochs = list()\n",
    "\n",
    "#     # Loop until stop conditions are met\n",
    "#     while (epoch <= maxEpochs) and (error > 9e-4):\n",
    "\n",
    "#         loss_ = 0\n",
    "#         # Loop over every data point\n",
    "#         for i in range(x.shape[0]):\n",
    "\n",
    "#             # Forward Propagation on each data point\n",
    "#             y_pred, loss, d_loss = forward_propagation(x[i], y[i], weights, bias)\n",
    "\n",
    "#             # Backpropagation\n",
    "#             partial_derivates = backpropagation(x[i], d_loss)\n",
    "\n",
    "#             # Learn by updating the weights of the perceptron\n",
    "#             weights = weights - (learning_rate * np.array(partial_derivates))\n",
    "\n",
    "#             # Ensure weights remain positive\n",
    "#             weights = np.clip(weights, 0, None)\n",
    "\n",
    "#         # Evaluate the results\n",
    "#         for index, feature_value_test in enumerate(x):\n",
    "#             y_pred, loss, d_loss = forward_propagation(feature_value_test, y[index], weights, bias)\n",
    "#             loss_ += loss\n",
    "\n",
    "#         errors.append(loss_ / len(x))\n",
    "#         epochs.append(epoch)\n",
    "#         error = errors[-1]\n",
    "#         epoch += 1\n",
    "\n",
    "#         print('Epoch {}. loss: {}'.format(epoch, errors[-1]))\n",
    "\n",
    "#     return weights, bias, errors\n"
   ]
  },
  {
   "cell_type": "code",
   "execution_count": 6,
   "metadata": {},
   "outputs": [],
   "source": [
    "def activation_function(prediction):\n",
    "    \"\"\"\n",
    "    Receives the output of the perceptron's function as parameter, and applies the\n",
    "    activation function on it.\n",
    "    In this simple model, the activation function is a unit step which classifies\n",
    "    negative inputs as 0 and positive inputs as 1.\n",
    "    \"\"\"\n",
    "    if prediction >= 0:\n",
    "        return 1\n",
    "    return 0\n",
    "\n",
    "\n",
    "def predict(x, weights, bias):\n",
    "    \"\"\"\n",
    "    Predicts the class of a given data point (x) by running the input through\n",
    "    the neuron (dot product) and then applying the activation function.\n",
    "    \"\"\"\n",
    "    prediction = np.dot(weights, x) + bias\n",
    "    prediction = activation_function(prediction)\n",
    "\n",
    "    return (prediction)"
   ]
  },
  {
   "cell_type": "code",
   "execution_count": 7,
   "metadata": {},
   "outputs": [],
   "source": [
    "def backpropagation(x, d_loss):\n",
    "    \"\"\"\n",
    "    Performs the Backpropagation step on a given data point.\n",
    "    Receives as input the data point, the Perceptron's weights and the partial derivative of the loss\n",
    "    over the predicted y.\n",
    "    The received derivative is used to calculate the partial derivative of the loss over the weight of each feature.\n",
    "    A list with the partial derivatives of the loss over each weight is returned.\n",
    "    \"\"\"\n",
    "    partial_derivates = list()\n",
    "    for feature_value in x:\n",
    "        partial_derivates.append(d_loss*feature_value)\n",
    "\n",
    "    return partial_derivates"
   ]
  },
  {
   "cell_type": "markdown",
   "metadata": {},
   "source": [
    "### Formatting our Data"
   ]
  },
  {
   "cell_type": "code",
   "execution_count": 162,
   "metadata": {},
   "outputs": [
    {
     "name": "stderr",
     "output_type": "stream",
     "text": [
      "C:\\Users\\jacob\\AppData\\Local\\Temp\\ipykernel_32348\\3792285982.py:11: SettingWithCopyWarning: \n",
      "A value is trying to be set on a copy of a slice from a DataFrame.\n",
      "Try using .loc[row_indexer,col_indexer] = value instead\n",
      "\n",
      "See the caveats in the documentation: https://pandas.pydata.org/pandas-docs/stable/user_guide/indexing.html#returning-a-view-versus-a-copy\n",
      "  data_zeros['label'] = 0\n",
      "C:\\Users\\jacob\\AppData\\Local\\Temp\\ipykernel_32348\\3792285982.py:12: SettingWithCopyWarning: \n",
      "A value is trying to be set on a copy of a slice from a DataFrame.\n",
      "Try using .loc[row_indexer,col_indexer] = value instead\n",
      "\n",
      "See the caveats in the documentation: https://pandas.pydata.org/pandas-docs/stable/user_guide/indexing.html#returning-a-view-versus-a-copy\n",
      "  data_ones['label'] = 1\n"
     ]
    },
    {
     "name": "stdout",
     "output_type": "stream",
     "text": [
      "(7932, 785)\n",
      "[0 1]\n",
      "(5949, 784)\n",
      "(1983, 784)\n",
      "(5949,)\n",
      "(1983,)\n"
     ]
    }
   ],
   "source": [
    "data = pd.read_csv('data_mnist.zip')\n",
    "\n",
    "# Take only data with labels 1\n",
    "data_ones = data[data['label'] == 5]\n",
    "\n",
    "# Take only data with labels 0\n",
    "data_zeros = data[data['label'] == 6]\n",
    "\n",
    "# If you want to change either digit, just change the label value to either a 0 or a 1 so the math works out\n",
    "# Ex. data_zeros = data[data['label'] == 7]\n",
    "data_zeros['label'] = 0\n",
    "data_ones['label'] = 1\n",
    "\n",
    "# Concatenate instances with label 0 and 1\n",
    "data = pd.concat([data_ones, data_zeros])\n",
    "print(data.shape)\n",
    "print(np.unique(data['label'].to_numpy()))\n",
    "\n",
    "# # Split dataset with 75% training data and 25% test data\n",
    "train_data, test_data = train_test_split(data, test_size=0.25, random_state=1, shuffle=True)\n",
    "\n",
    "# Split datasets into features and labels\n",
    "x_train = train_data.drop('label', axis=1).to_numpy()\n",
    "x_test = test_data.drop('label', axis=1).to_numpy()\n",
    "y_train = train_data['label'].to_numpy()\n",
    "y_test = test_data['label'].to_numpy()\n",
    "\n",
    "print(x_train.shape)\n",
    "print(x_test.shape)\n",
    "print(y_train.shape)\n",
    "print(y_test.shape)\n",
    "\n",
    "# Rescale data points to values between 0 and 1 (pixels are originally 0-255)\n",
    "x_train = x_train / 255.\n",
    "x_test = x_test / 255."
   ]
  },
  {
   "cell_type": "code",
   "execution_count": 163,
   "metadata": {},
   "outputs": [],
   "source": [
    "# def shrinkdata(data, res):\n",
    "#     \"\"\"\n",
    "#     Reformats the input data at a lower resolution.\n",
    "#     data: Our input data matrix\n",
    "#     res:  The resolution (must be a factor of 28)\n",
    "#     \"\"\"\n",
    "#     data = data[0:].reshape([data.shape[0], 28, 28])\n",
    "#     data = data.reshape(data.shape[0], res, int(28 / res), res, int(28 / res)).sum(axis=2).sum(axis=3)\n",
    "#     data = data / ((28 / res)**2)\n",
    "#     data = data[0:].reshape(data.shape[0], res**2)\n",
    "#     return data\n",
    "\n",
    "# def shrinkpoint(data, res):\n",
    "#     \"\"\"\n",
    "#     Same as shrinkdata, but for a single 784 pixel image\n",
    "#     \"\"\"\n",
    "#     data = data.reshape([28, 28])\n",
    "#     data = data.reshape(res, int(28 / res), res, int(28 / res)).sum(axis=1).sum(axis=2)\n",
    "#     data = data / ((28 / res)**2)\n",
    "#     data = data.reshape(res**2)\n",
    "#     return data\n",
    "\n",
    "from skimage.transform import resize\n",
    "import numpy as np\n",
    "\n",
    "def shrinkdata(data, res):\n",
    "    \"\"\"\n",
    "    Reformats the input data at a lower resolution.\n",
    "    data: Input data matrix of shape (N, 784) or (N, height, width)\n",
    "    res:  The target resolution (res x res)\n",
    "    \"\"\"\n",
    "    data = data.reshape(data.shape[0], 28, 28)  # Assumes original data is 28x28\n",
    "    target_shape = (res, res)\n",
    "    resized_data = np.array([resize(image, target_shape, anti_aliasing=True) for image in data])\n",
    "    resized_data = resized_data.reshape(data.shape[0], res**2)  # Flatten the data\n",
    "    return resized_data\n",
    "\n",
    "def shrinkpoint(data, res):\n",
    "    \"\"\"\n",
    "    Reformats a single image at a lower resolution.\n",
    "    data: A single 784-pixel image vector or 28x28 matrix\n",
    "    res:  The target resolution (res x res)\n",
    "    \"\"\"\n",
    "    data = data.reshape(28, 28)  # Assumes original data is 28x28\n",
    "    target_shape = (res, res)\n",
    "    resized_data = resize(data, target_shape, anti_aliasing=True)\n",
    "    return resized_data.flatten()"
   ]
  },
  {
   "cell_type": "code",
   "execution_count": 171,
   "metadata": {},
   "outputs": [
    {
     "data": {
      "text/plain": [
       "<matplotlib.image.AxesImage at 0x208440a8c90>"
      ]
     },
     "execution_count": 171,
     "metadata": {},
     "output_type": "execute_result"
    },
    {
     "data": {
      "image/png": "[encoded data removed]",
      "text/plain": [
       "<Figure size 640x480 with 1 Axes>"
      ]
     },
     "metadata": {},
     "output_type": "display_data"
    }
   ],
   "source": [
    "plt.imshow(x_train[553].reshape([28, 28]), cmap='Greys_r')"
   ]
  },
  {
   "cell_type": "code",
   "execution_count": 172,
   "metadata": {},
   "outputs": [
    {
     "data": {
      "text/plain": [
       "<matplotlib.image.AxesImage at 0x20844665c10>"
      ]
     },
     "execution_count": 172,
     "metadata": {},
     "output_type": "execute_result"
    },
    {
     "data": {
      "image/png": "[encoded data removed]",
      "text/plain": [
       "<Figure size 640x480 with 1 Axes>"
      ]
     },
     "metadata": {},
     "output_type": "display_data"
    }
   ],
   "source": [
    "resolution = 4 # 4x4 image resolution\n",
    "x_train_shrunk = shrinkdata(x_train, resolution)\n",
    "x_test_shrunk = shrinkdata(x_test, resolution)\n",
    "\n",
    "plt.imshow(x_train_shrunk[553].reshape([resolution, resolution]), cmap='Greys_r')"
   ]
  },
  {
   "cell_type": "code",
   "execution_count": 141,
   "metadata": {},
   "outputs": [],
   "source": [
    "def calculate_accuracy(x_test, y_test, weights, bias):\n",
    "\n",
    "    correct = 0\n",
    "\n",
    "    for sample, label in zip(x_test, y_test):\n",
    "\n",
    "        prediction = predict(sample, weights, bias)\n",
    "\n",
    "        if prediction == label:\n",
    "            correct += 1\n",
    "\n",
    "    accuracy = correct / len(x_test)\n",
    "    return accuracy"
   ]
  },
  {
   "cell_type": "code",
   "execution_count": 159,
   "metadata": {},
   "outputs": [
    {
     "name": "stdout",
     "output_type": "stream",
     "text": [
      "Epoch 1. loss: 0.14480963228115848\n",
      "Epoch 2. loss: 0.0981125935567849\n",
      "Epoch 3. loss: 0.08493328994467947\n",
      "Epoch 4. loss: 0.0782622844126261\n",
      "Epoch 5. loss: 0.07289293849658314\n",
      "Epoch 6. loss: 0.06931337455255451\n",
      "Epoch 7. loss: 0.06589651806052717\n",
      "Epoch 8. loss: 0.06426944354051416\n",
      "Epoch 9. loss: 0.062316954116498534\n",
      "Epoch 10. loss: 0.060689879596485516\n",
      "Epoch 11. loss: 0.06003904978848031\n",
      "Epoch 12. loss: 0.0585746827204686\n",
      "Epoch 13. loss: 0.05824926781646599\n",
      "Epoch 14. loss: 0.05711031565245688\n",
      "Epoch 15. loss: 0.055483241132443864\n",
      "Epoch 16. loss: 0.053856166612430846\n",
      "Epoch 17. loss: 0.05304262935242434\n",
      "Epoch 18. loss: 0.052717214448421736\n",
      "Epoch 19. loss: 0.05206638464041653\n",
      "Epoch 20. loss: 0.05076472502440612\n",
      "Epoch 21. loss: 0.049300357956394404\n",
      "Epoch 22. loss: 0.0491376505043931\n",
      "Epoch 23. loss: 0.048649528148389194\n",
      "Epoch 24. loss: 0.04848682069638789\n",
      "Epoch 25. loss: 0.047673283436381386\n",
      "Epoch 26. loss: 0.04734786853237878\n",
      "Epoch 27. loss: 0.04685974617637488\n",
      "Epoch 28. loss: 0.045883501464367066\n",
      "Epoch 29. loss: 0.045883501464367066\n",
      "Epoch 30. loss: 0.04523267165636186\n",
      "Epoch 31. loss: 0.04490725675235926\n",
      "Epoch 32. loss: 0.04441913439635535\n",
      "Epoch 33. loss: 0.04393101204035145\n",
      "Epoch 34. loss: 0.04376830458835015\n",
      "Epoch 35. loss: 0.04376830458835015\n",
      "Epoch 36. loss: 0.042954767328343635\n",
      "Epoch 37. loss: 0.04262935242434104\n",
      "Epoch 38. loss: 0.04165310771233322\n",
      "Epoch 39. loss: 0.04165310771233322\n",
      "Epoch 40. loss: 0.041327692808330624\n",
      "Epoch 41. loss: 0.041327692808330624\n",
      "Epoch 42. loss: 0.04100227790432802\n",
      "Epoch 43. loss: 0.040839570452326716\n",
      "Epoch 44. loss: 0.04018874064432151\n",
      "Epoch 45. loss: 0.04051415554832411\n",
      "Epoch 46. loss: 0.04035144809632281\n",
      "Epoch 47. loss: 0.04051415554832411\n",
      "Epoch 48. loss: 0.04035144809632281\n",
      "Epoch 49. loss: 0.039700618288317606\n",
      "Epoch 50. loss: 0.039700618288317606\n",
      "Epoch 51. loss: 0.04002603319232021\n",
      "Epoch 52. loss: 0.04002603319232021\n",
      "Epoch 53. loss: 0.04002603319232021\n",
      "Epoch 54. loss: 0.04002603319232021\n",
      "Epoch 55. loss: 0.03986332574031891\n",
      "Epoch 56. loss: 0.039049788480312396\n",
      "Epoch 57. loss: 0.0392124959323137\n",
      "Epoch 58. loss: 0.039049788480312396\n",
      "Epoch 59. loss: 0.039049788480312396\n",
      "Epoch 60. loss: 0.038561666124308495\n",
      "Epoch 61. loss: 0.038561666124308495\n",
      "Epoch 62. loss: 0.03839895867230719\n",
      "Epoch 63. loss: 0.03774812886430198\n",
      "Epoch 64. loss: 0.03774812886430198\n",
      "Epoch 65. loss: 0.03774812886430198\n",
      "Epoch 66. loss: 0.037910836316303285\n",
      "Epoch 67. loss: 0.037422713960299385\n",
      "Epoch 68. loss: 0.037422713960299385\n",
      "Epoch 69. loss: 0.03726000650829808\n",
      "Epoch 70. loss: 0.03726000650829808\n",
      "Epoch 71. loss: 0.03709729905629678\n",
      "Epoch 72. loss: 0.03709729905629678\n",
      "Epoch 73. loss: 0.03693459160429548\n",
      "Epoch 74. loss: 0.036771884152294175\n",
      "Epoch 75. loss: 0.03660917670029287\n",
      "Epoch 76. loss: 0.036771884152294175\n",
      "Epoch 77. loss: 0.03644646924829157\n",
      "Epoch 78. loss: 0.03644646924829157\n",
      "Epoch 79. loss: 0.03660917670029287\n",
      "Epoch 80. loss: 0.03644646924829157\n",
      "Epoch 81. loss: 0.03644646924829157\n",
      "Epoch 82. loss: 0.03644646924829157\n",
      "Epoch 83. loss: 0.036121054344288965\n",
      "Epoch 84. loss: 0.036121054344288965\n",
      "Epoch 85. loss: 0.03595834689228767\n",
      "Epoch 86. loss: 0.03628376179629027\n",
      "Epoch 87. loss: 0.03595834689228767\n",
      "Epoch 88. loss: 0.03595834689228767\n",
      "Epoch 89. loss: 0.03595834689228767\n",
      "Epoch 90. loss: 0.036121054344288965\n",
      "Epoch 91. loss: 0.036121054344288965\n",
      "Epoch 92. loss: 0.03579563944028637\n",
      "Epoch 93. loss: 0.03547022453628376\n",
      "Epoch 94. loss: 0.035632931988285065\n",
      "Epoch 95. loss: 0.03514480963228116\n",
      "Epoch 96. loss: 0.03547022453628376\n",
      "Epoch 97. loss: 0.03514480963228116\n",
      "Epoch 98. loss: 0.03400585746827205\n",
      "Epoch 99. loss: 0.03400585746827205\n",
      "Epoch 100. loss: 0.03433127237227465\n",
      "Epoch 101. loss: 0.03400585746827205\n"
     ]
    }
   ],
   "source": [
    "weights, bias, errors = optimize_perceptron(x_train_shrunk, y_train, learning_rate = 0.001, maxEpochs = 100)"
   ]
  },
  {
   "cell_type": "code",
   "execution_count": 160,
   "metadata": {},
   "outputs": [
    {
     "name": "stdout",
     "output_type": "stream",
     "text": [
      "[np.float64(0.14480963228115848), np.float64(0.0981125935567849), np.float64(0.08493328994467947), np.float64(0.0782622844126261), np.float64(0.07289293849658314), np.float64(0.06931337455255451), np.float64(0.06589651806052717), np.float64(0.06426944354051416), np.float64(0.062316954116498534), np.float64(0.060689879596485516), np.float64(0.06003904978848031), np.float64(0.0585746827204686), np.float64(0.05824926781646599), np.float64(0.05711031565245688), np.float64(0.055483241132443864), np.float64(0.053856166612430846), np.float64(0.05304262935242434), np.float64(0.052717214448421736), np.float64(0.05206638464041653), np.float64(0.05076472502440612), np.float64(0.049300357956394404), np.float64(0.0491376505043931), np.float64(0.048649528148389194), np.float64(0.04848682069638789), np.float64(0.047673283436381386), np.float64(0.04734786853237878), np.float64(0.04685974617637488), np.float64(0.045883501464367066), np.float64(0.045883501464367066), np.float64(0.04523267165636186), np.float64(0.04490725675235926), np.float64(0.04441913439635535), np.float64(0.04393101204035145), np.float64(0.04376830458835015), np.float64(0.04376830458835015), np.float64(0.042954767328343635), np.float64(0.04262935242434104), np.float64(0.04165310771233322), np.float64(0.04165310771233322), np.float64(0.041327692808330624), np.float64(0.041327692808330624), np.float64(0.04100227790432802), np.float64(0.040839570452326716), np.float64(0.04018874064432151), np.float64(0.04051415554832411), np.float64(0.04035144809632281), np.float64(0.04051415554832411), np.float64(0.04035144809632281), np.float64(0.039700618288317606), np.float64(0.039700618288317606), np.float64(0.04002603319232021), np.float64(0.04002603319232021), np.float64(0.04002603319232021), np.float64(0.04002603319232021), np.float64(0.03986332574031891), np.float64(0.039049788480312396), np.float64(0.0392124959323137), np.float64(0.039049788480312396), np.float64(0.039049788480312396), np.float64(0.038561666124308495), np.float64(0.038561666124308495), np.float64(0.03839895867230719), np.float64(0.03774812886430198), np.float64(0.03774812886430198), np.float64(0.03774812886430198), np.float64(0.037910836316303285), np.float64(0.037422713960299385), np.float64(0.037422713960299385), np.float64(0.03726000650829808), np.float64(0.03726000650829808), np.float64(0.03709729905629678), np.float64(0.03709729905629678), np.float64(0.03693459160429548), np.float64(0.036771884152294175), np.float64(0.03660917670029287), np.float64(0.036771884152294175), np.float64(0.03644646924829157), np.float64(0.03644646924829157), np.float64(0.03660917670029287), np.float64(0.03644646924829157), np.float64(0.03644646924829157), np.float64(0.03644646924829157), np.float64(0.036121054344288965), np.float64(0.036121054344288965), np.float64(0.03595834689228767), np.float64(0.03628376179629027), np.float64(0.03595834689228767), np.float64(0.03595834689228767), np.float64(0.03595834689228767), np.float64(0.036121054344288965), np.float64(0.036121054344288965), np.float64(0.03579563944028637), np.float64(0.03547022453628376), np.float64(0.035632931988285065), np.float64(0.03514480963228116), np.float64(0.03547022453628376), np.float64(0.03514480963228116), np.float64(0.03400585746827205), np.float64(0.03400585746827205), np.float64(0.03433127237227465), np.float64(0.03400585746827205)]\n"
     ]
    },
    {
     "data": {
      "text/plain": [
       "[<matplotlib.lines.Line2D at 0x208441c7990>]"
      ]
     },
     "execution_count": 160,
     "metadata": {},
     "output_type": "execute_result"
    },
    {
     "data": {
      "image/png": "[encoded data removed]",
      "text/plain": [
       "<Figure size 640x480 with 1 Axes>"
      ]
     },
     "metadata": {},
     "output_type": "display_data"
    }
   ],
   "source": [
    "print(errors)\n",
    "plt.plot(errors)"
   ]
  },
  {
   "cell_type": "code",
   "execution_count": 161,
   "metadata": {},
   "outputs": [
    {
     "name": "stdout",
     "output_type": "stream",
     "text": [
      "Accuracy:  0.9755978526110298\n"
     ]
    }
   ],
   "source": [
    "acc = calculate_accuracy(x_test_shrunk, y_test, weights, bias)\n",
    "print('Accuracy: ', acc)"
   ]
  },
  {
   "cell_type": "code",
   "execution_count": 23,
   "metadata": {},
   "outputs": [
    {
     "data": {
      "image/png": "[encoded data removed]",
      "text/plain": [
       "<Figure size 640x480 with 1 Axes>"
      ]
     },
     "metadata": {},
     "output_type": "display_data"
    },
    {
     "name": "stdout",
     "output_type": "stream",
     "text": [
      "[[ 0.36283101 -0.06630965 -0.09434991  0.29588978]\n",
      " [-0.09839774  0.11417954  0.06950373  0.168088  ]\n",
      " [ 0.12353759 -0.32090507 -0.13521446 -0.19535677]\n",
      " [ 0.49311704 -0.0025508   0.12377014  0.25979509]]\n"
     ]
    }
   ],
   "source": [
    "weights.resize((resolution, resolution))\n",
    "plt.imshow(weights, cmap='Greys_r')\n",
    "plt.axis('off')\n",
    "plt.show()\n",
    "\n",
    "print(weights)"
   ]
  }
 ],
 "metadata": {
  "kernelspec": {
   "display_name": "Python 3",
   "language": "python",
   "name": "python3"
  },
  "language_info": {
   "codemirror_mode": {
    "name": "ipython",
    "version": 3
   },
   "file_extension": ".py",
   "mimetype": "text/x-python",
   "name": "python",
   "nbconvert_exporter": "python",
   "pygments_lexer": "ipython3",
   "version": "3.11.8"
  }
 },
 "nbformat": 4,
 "nbformat_minor": 4
}
