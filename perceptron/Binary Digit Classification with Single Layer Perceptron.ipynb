{
 "cells": [
  {
   "cell_type": "markdown",
   "metadata": {},
   "source": [
    "import pandas as pd\n",
    "import matplotlib.pyplot as plt\n",
    "import numpy as np\n",
    "from sklearn.model_selection import train_test_split"
   ]
  },
  {
   "cell_type": "markdown",
   "metadata": {},
   "source": [
    "### This is a single perceptron model that DOES NOT use PyTorch!\n",
    "\n",
    "Propagation and optimization functions are the same as slideshow, except our activation function is not a sigmoid but a unit step (so we ignore its derivative)."
   ]
  },
  {
   "cell_type": "code",
   "execution_count": 477,
   "metadata": {},
   "outputs": [],
   "source": [
    "def forward_propagation(x, y, weights, bias): \n",
    "    \"\"\"\n",
    "    x: training data as a vector (nparray), where each value corresponds\n",
    "        to a feature's value\n",
    "    y: label (0 or 1)\n",
    "    weights: weights of the perceptron\n",
    "    bias: bias\n",
    "    \"\"\"\n",
    "    y_pred = predict(x, weights, bias)\n",
    "    loss = (y_pred - y)**2   \n",
    "    d_loss = 2*(y_pred - y)\n",
    "    \n",
    "    return y_pred, loss, d_loss"
   ]
  },
  {
   "cell_type": "code",
   "execution_count": 579,
   "metadata": {},
   "outputs": [],
   "source": [
    "def optimize_perceptron(x, y, learning_rate,  maxEpochs, ):\n",
    "    \"\"\"\n",
    "    Optimizes the Perceptron's weights by looping over the same steps for the specified number of epochs.\n",
    "    Steps:\n",
    "    1. Forward propagate data point\n",
    "    2. Backpropagate\n",
    "    3. Update weights\n",
    "    4. Check stop conditions while looping\n",
    "    \"\"\"\n",
    "    epoch = 0\n",
    "    error = 999\n",
    "    weights = np.random.rand(x.shape[1])\n",
    "    bias = np.random.rand()\n",
    "    \n",
    "    errors = list()\n",
    "    epochs = list()\n",
    "    \n",
    "    # Loop until stop conditions are met\n",
    "    while (epoch <= maxEpochs) and (error > 9e-4):\n",
    "        \n",
    "        loss_ = 0\n",
    "        # Loop over every data point\n",
    "        for i in range(x.shape[0]):\n",
    "            \n",
    "            # Forward Propagation on each data point\n",
    "            y_pred, loss, d_loss = forward_propagation(x[i], y[i], weights, bias)\n",
    "\n",
    "            # Backpropagation\n",
    "            partial_derivates = backpropagation(x[i], d_loss)\n",
    "            \n",
    "            # Learn by updating the weights of the perceptron\n",
    "            weights = weights - (learning_rate * np.array(partial_derivates))\n",
    "\n",
    "        # Evaluate the results\n",
    "        for index, feature_value_test in enumerate(x):\n",
    "            y_pred, loss, d_loss = forward_propagation(feature_value_test, y[index], weights, bias)\n",
    "            loss_ += loss\n",
    "\n",
    "        errors.append(loss_/len(x))\n",
    "        epochs.append(epoch)\n",
    "        error = errors[-1]\n",
    "        epoch += 1\n",
    "\n",
    "        print('Epoch {}. loss: {}'.format(epoch, errors[-1]))\n",
    "\n",
    "    \n",
    "    return weights, bias, errors"
   ]
  },
  {
   "cell_type": "code",
   "execution_count": 578,
   "metadata": {},
   "outputs": [],
   "source": [
    "def activation_function(prediction):\n",
    "    \"\"\"\n",
    "    Receives the output of the perceptron's function as parameter, and applies the\n",
    "    activation function on it.\n",
    "    In this simple model, the activation function is a unit step which classifies\n",
    "    negative inputs as 0 and positive inputs as 1.\n",
    "    \"\"\"\n",
    "    if prediction >= 0:\n",
    "        return 1\n",
    "    return 0\n",
    "  \n",
    "\n",
    "def predict(x, weights, bias):\n",
    "    \"\"\"\n",
    "    Predicts the class of a given data point (x) by running the input through \n",
    "    the neuron (dot product) and then applying the activation function.\n",
    "    \"\"\"\n",
    "    prediction = np.dot(weights, x) + bias\n",
    "    prediction = activation_function(prediction)\n",
    "    \n",
    "    return (prediction)"
   ]
  },
  {
   "cell_type": "code",
   "execution_count": 480,
   "metadata": {},
   "outputs": [],
   "source": [
    "def backpropagation(x, d_loss):\n",
    "    \"\"\"\n",
    "    Performs the Backpropagation step on a given data point.\n",
    "    Receives as input the data point, the Perceptron's weights and the partial derivative of the loss\n",
    "    over the predicted y.\n",
    "    The received derivative is used to calculate the partial derivative of the loss over the weight of each feature.\n",
    "    A list with the partial derivatives of the loss over each weight is returned.\n",
    "    \"\"\"\n",
    "    partial_derivates = list()\n",
    "    for feature_value in x:\n",
    "        partial_derivates.append(d_loss*feature_value)\n",
    "        \n",
    "    return partial_derivates   "
   ]
  },
  {
   "cell_type": "markdown",
   "metadata": {},
   "source": [
    "### Formatting our Data"
   ]
  },
  {
   "cell_type": "code",
   "execution_count": 615,
   "metadata": {},
   "outputs": [
    {
     "name": "stdout",
     "output_type": "stream",
     "text": [
      "(8816, 785)\n",
      "[0 1]\n",
      "(6612, 784)\n",
      "(2204, 784)\n",
      "(6612,)\n",
      "(2204,)\n"
     ]
    }
   ],
   "source": [
    "data = pd.read_csv('data_mnist.zip')\n",
    "\n",
    "# Take only data with labels 1\n",
    "data_ones = data[data['label'] == 1]\n",
    "\n",
    "# Take only data with labels 0\n",
    "data_zeros = data[data['label'] == 0]\n",
    "\n",
    "# If you want to change either digit, just change the label value to either a 0 or a 1 so the math works out\n",
    "# Ex. data_zeros = data[data['label'] == 7]\n",
    "#     data_zeros['label'] = 0\n",
    "\n",
    "# Concatenate instances with label 0 and 1\n",
    "data = pd.concat([data_ones, data_zeros])\n",
    "print(data.shape)\n",
    "print(np.unique(data['label'].to_numpy()))\n",
    "\n",
    "# # Split dataset with 75% training data and 25% test data\n",
    "train_data, test_data = train_test_split(data, test_size=0.25, random_state=1, shuffle=True)\n",
    "\n",
    "# Split datasets into features and labels\n",
    "x_train = train_data.drop('label', axis=1).to_numpy()\n",
    "x_test = test_data.drop('label', axis=1).to_numpy()\n",
    "y_train = train_data['label'].to_numpy()\n",
    "y_test = test_data['label'].to_numpy()\n",
    "\n",
    "print(x_train.shape)\n",
    "print(x_test.shape)\n",
    "print(y_train.shape)\n",
    "print(y_test.shape)\n",
    "\n",
    "# Rescale data points to values between 0 and 1 (pixels are originally 0-255)\n",
    "x_train = x_train / 255.\n",
    "x_test = x_test / 255."
   ]
  },
  {
   "cell_type": "code",
   "execution_count": 581,
   "metadata": {},
   "outputs": [],
   "source": [
    "def shrinkdata(data, res):\n",
    "    \"\"\"\n",
    "    Reformats the input data at a lower resolution.\n",
    "    data: Our input data matrix\n",
    "    res:  The resolution (must be a factor of 28)\n",
    "    \"\"\"\n",
    "    data = data[0:].reshape([data.shape[0], 28, 28])\n",
    "    data = data.reshape(data.shape[0], res, int(28 / res), res, int(28 / res)).sum(axis=2).sum(axis=3)\n",
    "    data = data / ((28 / res)**2)\n",
    "    data = data[0:].reshape(data.shape[0], res**2)\n",
    "    return data\n",
    "\n",
    "def shrinkpoint(data, res):\n",
    "    \"\"\"\n",
    "    Same as shrinkdata, but for a single 784 pixel image\n",
    "    \"\"\"\n",
    "    data = data.reshape([28, 28])\n",
    "    data = data.reshape(res, int(28 / res), res, int(28 / res)).sum(axis=1).sum(axis=2)\n",
    "    data = data / ((28 / res)**2)\n",
    "    data = data.reshape(res**2)\n",
    "    return data"
   ]
  },
  {
   "cell_type": "code",
   "execution_count": 596,
   "metadata": {},
   "outputs": [
    {
     "data": {
      "text/plain": [
       "<matplotlib.image.AxesImage at 0x13bae9890>"
      ]
     },
     "execution_count": 596,
     "metadata": {},
     "output_type": "execute_result"
    },
    {
     "data": {
      "image/png": "[encoded data removed]",
      "text/plain": [
       "<Figure size 640x480 with 1 Axes>"
      ]
     },
     "metadata": {},
     "output_type": "display_data"
    }
   ],
   "source": [
    "plt.imshow(x_train[205].reshape([28, 28]), cmap='Greys_r')"
   ]
  },
  {
   "cell_type": "code",
   "execution_count": 608,
   "metadata": {},
   "outputs": [
    {
     "data": {
      "text/plain": [
       "<matplotlib.image.AxesImage at 0x13b92c690>"
      ]
     },
     "execution_count": 608,
     "metadata": {},
     "output_type": "execute_result"
    },
    {
     "data": {
      "image/png": "[encoded data removed]",
      "text/plain": [
       "<Figure size 640x480 with 1 Axes>"
      ]
     },
     "metadata": {},
     "output_type": "display_data"
    }
   ],
   "source": [
    "resolution = 7 # 4x4 image resolution\n",
    "x_train_shrunk = shrinkdata(x_train, resolution)\n",
    "x_test_shrunk = shrinkdata(x_test, resolution)\n",
    "\n",
    "plt.imshow(x_train_shrunk[205].reshape([resolution, resolution]), cmap='Greys_r')"
   ]
  },
  {
   "cell_type": "code",
   "execution_count": 603,
   "metadata": {},
   "outputs": [],
   "source": [
    "def calculate_accuracy(x_test, y_test, weights, bias):\n",
    "    \n",
    "    correct = 0\n",
    "\n",
    "    for sample, label in zip(x_test, y_test):\n",
    "\n",
    "        prediction = predict(sample, weights, bias)\n",
    "\n",
    "        if prediction == label:\n",
    "            correct += 1\n",
    "\n",
    "    accuracy = correct / len(x_test)\n",
    "    return accuracy"
   ]
  },
  {
   "cell_type": "code",
   "execution_count": 609,
   "metadata": {},
   "outputs": [
    {
     "name": "stdout",
     "output_type": "stream",
     "text": [
      "Epoch 1. loss: 0.0689857625128431\n",
      "Epoch 2. loss: 0.0516659327755761\n",
      "Epoch 3. loss: 0.043446352561279905\n",
      "Epoch 4. loss: 0.03816233670923235\n",
      "Epoch 5. loss: 0.03463965947453398\n",
      "Epoch 6. loss: 0.031997651548510204\n",
      "Epoch 7. loss: 0.02979597827682372\n",
      "Epoch 8. loss: 0.028621752531924262\n",
      "Epoch 9. loss: 0.02700719213268751\n",
      "Epoch 10. loss: 0.026126522824012916\n",
      "Epoch 11. loss: 0.025392631733450757\n",
      "Epoch 12. loss: 0.024658740642888595\n",
      "Epoch 13. loss: 0.023924849552326436\n",
      "Epoch 14. loss: 0.023044180243651843\n",
      "Epoch 15. loss: 0.022603845589314546\n",
      "Epoch 16. loss: 0.022457067371202115\n",
      "Epoch 17. loss: 0.02216351093497725\n",
      "Epoch 18. loss: 0.021869954498752384\n",
      "Epoch 19. loss: 0.02142961984441509\n",
      "Epoch 20. loss: 0.020548950535740497\n",
      "Epoch 21. loss: 0.02025539409951563\n",
      "Epoch 22. loss: 0.01996183766329077\n",
      "Epoch 23. loss: 0.019815059445178335\n",
      "Epoch 24. loss: 0.019815059445178335\n",
      "Epoch 25. loss: 0.019815059445178335\n",
      "Epoch 26. loss: 0.019668281227065904\n",
      "Epoch 27. loss: 0.019668281227065904\n",
      "Epoch 28. loss: 0.019374724790841038\n",
      "Epoch 29. loss: 0.019374724790841038\n",
      "Epoch 30. loss: 0.019227946572728607\n",
      "Epoch 31. loss: 0.019081168354616176\n",
      "Epoch 32. loss: 0.01878761191839131\n",
      "Epoch 33. loss: 0.01878761191839131\n",
      "Epoch 34. loss: 0.01864083370027888\n",
      "Epoch 35. loss: 0.01805372082782915\n",
      "Epoch 36. loss: 0.017760164391604286\n",
      "Epoch 37. loss: 0.01746660795537942\n",
      "Epoch 38. loss: 0.017173051519154558\n",
      "Epoch 39. loss: 0.016879495082929692\n",
      "Epoch 40. loss: 0.016879495082929692\n",
      "Epoch 41. loss: 0.01673271686481726\n",
      "Epoch 42. loss: 0.01673271686481726\n",
      "Epoch 43. loss: 0.01673271686481726\n",
      "Epoch 44. loss: 0.016439160428592395\n",
      "Epoch 45. loss: 0.015998825774255102\n",
      "Epoch 46. loss: 0.015998825774255102\n",
      "Epoch 47. loss: 0.015558491119917804\n",
      "Epoch 48. loss: 0.015558491119917804\n",
      "Epoch 49. loss: 0.015705269338030237\n",
      "Epoch 50. loss: 0.015558491119917804\n",
      "Epoch 51. loss: 0.01526493468369294\n",
      "Epoch 52. loss: 0.015411712901805373\n",
      "Epoch 53. loss: 0.015558491119917804\n",
      "Epoch 54. loss: 0.015118156465580507\n",
      "Epoch 55. loss: 0.015118156465580507\n",
      "Epoch 56. loss: 0.015118156465580507\n",
      "Epoch 57. loss: 0.014971378247468076\n",
      "Epoch 58. loss: 0.01526493468369294\n",
      "Epoch 59. loss: 0.015411712901805373\n",
      "Epoch 60. loss: 0.015118156465580507\n",
      "Epoch 61. loss: 0.015118156465580507\n",
      "Epoch 62. loss: 0.014971378247468076\n",
      "Epoch 63. loss: 0.014824600029355643\n",
      "Epoch 64. loss: 0.014677821811243212\n",
      "Epoch 65. loss: 0.014384265375018346\n",
      "Epoch 66. loss: 0.01453104359313078\n",
      "Epoch 67. loss: 0.014384265375018346\n",
      "Epoch 68. loss: 0.013943930720681052\n",
      "Epoch 69. loss: 0.014237487156905915\n",
      "Epoch 70. loss: 0.013943930720681052\n",
      "Epoch 71. loss: 0.013797152502568619\n",
      "Epoch 72. loss: 0.013797152502568619\n",
      "Epoch 73. loss: 0.013503596066343755\n",
      "Epoch 74. loss: 0.013503596066343755\n",
      "Epoch 75. loss: 0.013356817848231322\n",
      "Epoch 76. loss: 0.013210039630118891\n",
      "Epoch 77. loss: 0.013210039630118891\n",
      "Epoch 78. loss: 0.013210039630118891\n",
      "Epoch 79. loss: 0.013063261412006458\n",
      "Epoch 80. loss: 0.013063261412006458\n",
      "Epoch 81. loss: 0.013063261412006458\n",
      "Epoch 82. loss: 0.013063261412006458\n",
      "Epoch 83. loss: 0.013063261412006458\n",
      "Epoch 84. loss: 0.012916483193894025\n",
      "Epoch 85. loss: 0.013210039630118891\n",
      "Epoch 86. loss: 0.013210039630118891\n",
      "Epoch 87. loss: 0.013210039630118891\n",
      "Epoch 88. loss: 0.013356817848231322\n",
      "Epoch 89. loss: 0.013063261412006458\n",
      "Epoch 90. loss: 0.013063261412006458\n",
      "Epoch 91. loss: 0.013063261412006458\n",
      "Epoch 92. loss: 0.013063261412006458\n",
      "Epoch 93. loss: 0.012769704975781594\n",
      "Epoch 94. loss: 0.012622926757669161\n",
      "Epoch 95. loss: 0.012329370321444297\n",
      "Epoch 96. loss: 0.012622926757669161\n",
      "Epoch 97. loss: 0.012622926757669161\n",
      "Epoch 98. loss: 0.012329370321444297\n",
      "Epoch 99. loss: 0.01247614853955673\n",
      "Epoch 100. loss: 0.01247614853955673\n",
      "Epoch 101. loss: 0.01247614853955673\n"
     ]
    }
   ],
   "source": [
    "weights, bias, errors = optimize_perceptron(x_train_shrunk, y_train, learning_rate = 0.001, maxEpochs = 100)"
   ]
  },
  {
   "cell_type": "code",
   "execution_count": 610,
   "metadata": {},
   "outputs": [
    {
     "name": "stdout",
     "output_type": "stream",
     "text": [
      "Accuracy:  0.9841549295774648\n"
     ]
    }
   ],
   "source": [
    "acc = calculate_accuracy(x_test_shrunk, y_test, weights, bias)\n",
    "print('Accuracy: ', acc)"
   ]
  },
  {
   "cell_type": "code",
   "execution_count": 611,
   "metadata": {},
   "outputs": [
    {
     "data": {
      "image/png": "[encoded data removed]",
      "text/plain": [
       "<Figure size 640x480 with 1 Axes>"
      ]
     },
     "metadata": {},
     "output_type": "display_data"
    },
    {
     "name": "stdout",
     "output_type": "stream",
     "text": [
      "[[ 2.86020983e-01  7.64611442e-01  1.14091963e-01  1.06779640e+00\n",
      "   3.26354069e-01  2.00944115e-02  9.49637190e-01]\n",
      " [ 4.85744215e-01  6.36025536e-01 -6.42162563e-01 -2.78124286e-01\n",
      "   2.62826421e-01  2.48486968e-01  5.55449158e-01]\n",
      " [ 7.73960258e-01 -6.11650402e-02 -1.00674275e+00 -1.94690038e-01\n",
      "  -7.82277804e-01 -2.73105147e-01  1.63538877e-01]\n",
      " [ 5.64048468e-01 -3.85322814e-01 -1.12149117e-01  5.98912150e-01\n",
      "  -1.05755819e+00 -6.26616241e-01  5.16825817e-02]\n",
      " [ 6.97677727e-01  1.49781080e-01  4.55854378e-01 -7.21242802e-01\n",
      "   1.01967509e-02 -2.71449955e-01  2.83737437e-01]\n",
      " [ 8.67650130e-04  2.73691224e-01  3.92931131e-01  5.44855051e-01\n",
      "   4.73118008e-01  2.89985781e-01  8.57090272e-01]\n",
      " [ 3.75995914e-02 -2.95306071e-01 -1.92748347e-01 -8.50003649e-01\n",
      "  -1.28756346e-01  8.53476733e-01  2.60587064e-01]]\n"
     ]
    }
   ],
   "source": [
    "weights.resize((resolution, resolution))\n",
    "plt.imshow(weights, cmap='Greys_r')\n",
    "plt.axis('off')\n",
    "plt.show()\n",
    "\n",
    "print(weights)"
   ]
  }
 ],
 "metadata": {
  "kernelspec": {
   "display_name": "Python 3 (ipykernel)",
   "language": "python",
   "name": "python3"
  },
  "language_info": {
   "codemirror_mode": {
    "name": "ipython",
    "version": 3
   },
   "file_extension": ".py",
   "mimetype": "text/x-python",
   "name": "python",
   "nbconvert_exporter": "python",
   "pygments_lexer": "ipython3",
   "version": "3.11.7"
  }
 },
 "nbformat": 4,
 "nbformat_minor": 4
}
